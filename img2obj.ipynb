{
 "cells": [
  {
   "cell_type": "markdown",
   "id": "0122994e",
   "metadata": {},
   "source": [
    "# img2obj"
   ]
  },
  {
   "cell_type": "markdown",
   "id": "68c3c457",
   "metadata": {},
   "source": [
    "## 準備、処理設定"
   ]
  },
  {
   "cell_type": "markdown",
   "id": "b117a8f7",
   "metadata": {},
   "source": [
    "### 準備"
   ]
  },
  {
   "cell_type": "code",
   "execution_count": 8,
   "id": "7cdf583b",
   "metadata": {},
   "outputs": [
    {
     "name": "stdout",
     "output_type": "stream",
     "text": [
      "Requirement already satisfied: matplotlib in /Users/ichi/miniforge3/envs/env_python3_8/lib/python3.8/site-packages (3.5.1)\n",
      "Requirement already satisfied: numpy>=1.17 in /Users/ichi/miniforge3/envs/env_python3_8/lib/python3.8/site-packages (from matplotlib) (1.23.0)\n",
      "Requirement already satisfied: cycler>=0.10 in /Users/ichi/miniforge3/envs/env_python3_8/lib/python3.8/site-packages (from matplotlib) (0.11.0)\n",
      "Requirement already satisfied: pillow>=6.2.0 in /Users/ichi/miniforge3/envs/env_python3_8/lib/python3.8/site-packages (from matplotlib) (8.4.0)\n",
      "Requirement already satisfied: pyparsing>=2.2.1 in /Users/ichi/miniforge3/envs/env_python3_8/lib/python3.8/site-packages (from matplotlib) (3.0.6)\n",
      "Requirement already satisfied: packaging>=20.0 in /Users/ichi/miniforge3/envs/env_python3_8/lib/python3.8/site-packages (from matplotlib) (21.3)\n",
      "Requirement already satisfied: python-dateutil>=2.7 in /Users/ichi/miniforge3/envs/env_python3_8/lib/python3.8/site-packages (from matplotlib) (2.8.2)\n",
      "Requirement already satisfied: kiwisolver>=1.0.1 in /Users/ichi/miniforge3/envs/env_python3_8/lib/python3.8/site-packages (from matplotlib) (1.3.2)\n",
      "Requirement already satisfied: fonttools>=4.22.0 in /Users/ichi/miniforge3/envs/env_python3_8/lib/python3.8/site-packages (from matplotlib) (4.28.5)\n",
      "Requirement already satisfied: six>=1.5 in /Users/ichi/miniforge3/envs/env_python3_8/lib/python3.8/site-packages (from python-dateutil>=2.7->matplotlib) (1.15.0)\n",
      "Note: you may need to restart the kernel to use updated packages.\n",
      "Requirement already satisfied: triangle in /Users/ichi/miniforge3/envs/env_python3_8/lib/python3.8/site-packages (20200424)\n",
      "Requirement already satisfied: numpy in /Users/ichi/miniforge3/envs/env_python3_8/lib/python3.8/site-packages (from triangle) (1.23.0)\n",
      "Note: you may need to restart the kernel to use updated packages.\n"
     ]
    }
   ],
   "source": [
    "import numpy as np\n",
    "from numpy.linalg import norm\n",
    "import math\n",
    "%pip install matplotlib\n",
    "%matplotlib inline\n",
    "import matplotlib as mpl\n",
    "import matplotlib.pyplot as plt\n",
    "import matplotlib.collections as mcollections\n",
    "import matplotlib.colors as mcolors\n",
    "from matplotlib.axes._axes import _log as matplotlib_axes_logger\n",
    "matplotlib_axes_logger.setLevel('ERROR')\n",
    "import pprint\n",
    "%pip install triangle\n",
    "import triangle\n",
    "import datetime\n",
    "import cv2"
   ]
  },
  {
   "cell_type": "code",
   "execution_count": 9,
   "id": "861b445e",
   "metadata": {},
   "outputs": [
    {
     "name": "stdout",
     "output_type": "stream",
     "text": [
      "['b', 'g', 'r', 'c', 'm', 'y', 'k']\n",
      "{'b': (0, 0, 1),\n",
      " 'c': (0, 0.75, 0.75),\n",
      " 'g': (0, 0.5, 0),\n",
      " 'k': (0, 0, 0),\n",
      " 'm': (0.75, 0, 0.75),\n",
      " 'r': (1, 0, 0),\n",
      " 'y': (0.75, 0.75, 0)}\n"
     ]
    }
   ],
   "source": [
    "# matplotlib カラーリストの取得\n",
    "base_colors = mcolors.BASE_COLORS\n",
    "base_colors.pop('w', None) # Whiteを削除\n",
    "\n",
    "print(list(base_colors.keys()))\n",
    "pprint.pprint(base_colors)"
   ]
  },
  {
   "cell_type": "markdown",
   "id": "ff9f3357",
   "metadata": {},
   "source": [
    "### 処理設定"
   ]
  },
  {
   "cell_type": "code",
   "execution_count": 10,
   "id": "be46b36c",
   "metadata": {},
   "outputs": [],
   "source": [
    "# 画像の設定\n",
    "img_folder_path = \"/Users/****/Desktop/\"\n",
    "img_name = \"sample.png\"\n",
    "img_path = img_folder_path + img_name\n",
    "\n",
    "# Objの設定\n",
    "new_obj_name = \"New_Obj\"\n",
    "new_obj_folder_path = \"/Users/****/Desktop/\""
   ]
  },
  {
   "cell_type": "code",
   "execution_count": 11,
   "id": "7fcbc7e8",
   "metadata": {},
   "outputs": [],
   "source": [
    "# 処理のパラメーター\n",
    "round_num_01 = 4\n",
    "material_adjustment_scale = 2\n",
    "pixel_to_obj_raito = 0.01\n",
    "obj_size_scale = 1.0\n",
    "obj_maxsize = 10\n",
    "obj_minsize = 1\n",
    "epsilon_raito = 0.01 # cv2輪郭の頂点の省略率\n",
    "figure_height = 0.5"
   ]
  },
  {
   "cell_type": "code",
   "execution_count": 12,
   "id": "886fecbf",
   "metadata": {},
   "outputs": [],
   "source": [
    "figure_height_half = figure_height / 2\n",
    "is_reverse_list = [False, True]"
   ]
  },
  {
   "cell_type": "markdown",
   "id": "19cb4328",
   "metadata": {},
   "source": [
    "### 関数"
   ]
  },
  {
   "cell_type": "code",
   "execution_count": 13,
   "id": "9b660769",
   "metadata": {},
   "outputs": [],
   "source": [
    "# 確認用の関数\n",
    "def Get_Color(num, colordict):\n",
    "  i = (num + 1) % len(colordict)\n",
    "  key = list(colordict.keys())[i]\n",
    "  c = colordict[key]\n",
    "  return c\n",
    "\n",
    "def Display_Sides_And_Points(side_list, p_list, diff):\n",
    "  fig = plt.figure(figsize=(10,10),dpi=100)\n",
    "  ax = fig.add_subplot(1, 1, 1)\n",
    "\n",
    "  for i in range(len(p_list)):\n",
    "    color = Get_Color(i, base_colors)\n",
    "    ax.scatter(p_list[i][0], p_list[i][1], c=color, edgecolors=color)\n",
    "    ax.text((p_list[i][0] + diff), (p_list[i][1] + diff), str(i), color=color)\n",
    "\n",
    "  for i in range(len(side_list)):\n",
    "\n",
    "    color = Get_Color(i, base_colors)\n",
    "    lines = [[side_list[i][0], side_list[i][1]]]\n",
    "\n",
    "    lc = mcollections.LineCollection(lines, colors=color)\n",
    "    ax.add_collection(lc)\n",
    "\n",
    "    px1 = side_list[i][0][0]\n",
    "    py1 = side_list[i][0][1]\n",
    "    px2 = side_list[i][1][0]\n",
    "    py2 = side_list[i][1][1]\n",
    "    ax.scatter(px1, py1, s=50, c=color, edgecolors=color)\n",
    "    ax.scatter(px2, py2, s=50, c=color, edgecolors=color)\n",
    "\n",
    "    number_str = str(i) + \"_\"\n",
    "    ax.text((px1 + diff*(i+0.1)) , (py1 + diff*(i+0.1)), number_str + str(0) , color=color)\n",
    "    ax.text((px2 + diff*(i+0.1)) , (py2 + diff*(i+0.1)), number_str + str(1), color=color)\n",
    "\n",
    "  ax.set_aspect ('equal')\n",
    "  ax.set_xlabel('x')\n",
    "  ax.set_ylabel('y')\n",
    "  fig.show()"
   ]
  },
  {
   "cell_type": "markdown",
   "id": "45db2e61",
   "metadata": {},
   "source": [
    "## 画像の取得と前準備、輪郭の取得"
   ]
  },
  {
   "cell_type": "code",
   "execution_count": 14,
   "id": "48ae907b",
   "metadata": {},
   "outputs": [
    {
     "name": "stdout",
     "output_type": "stream",
     "text": [
      "(240, 240)\n"
     ]
    },
    {
     "data": {
      "image/png": "[encoded data removed]",
      "text/plain": [
       "<Figure size 432x288 with 1 Axes>"
      ]
     },
     "metadata": {
      "needs_background": "light"
     },
     "output_type": "display_data"
    }
   ],
   "source": [
    "img = cv2.imread(img_path, 0)\n",
    "\n",
    "if img.all() != None:\n",
    "    print(img.shape)\n",
    "\n",
    "    im_list = np.asarray(img)\n",
    "    plt.imshow(im_list)\n",
    "    plt.show()\n",
    "else:\n",
    "    print(\"img is empty!\")"
   ]
  },
  {
   "cell_type": "code",
   "execution_count": 15,
   "metadata": {},
   "outputs": [
    {
     "name": "stdout",
     "output_type": "stream",
     "text": [
      "(260, 260)\n",
      "[[255 255 255 ... 255 255 255]\n",
      " [255 255 255 ... 255 255 255]\n",
      " [255 255 255 ... 255 255 255]\n",
      " ...\n",
      " [255 255 255 ... 255 255 255]\n",
      " [255 255 255 ... 255 255 255]\n",
      " [255 255 255 ... 255 255 255]]\n"
     ]
    },
    {
     "data": {
      "image/png": "[encoded data removed]",
      "text/plain": [
       "<Figure size 432x288 with 1 Axes>"
      ]
     },
     "metadata": {
      "needs_background": "light"
     },
     "output_type": "display_data"
    }
   ],
   "source": [
    "# 2値化\n",
    "threshold = 150\n",
    "ret, img_bi = cv2.threshold(img, threshold, 255, cv2.THRESH_BINARY)\n",
    "\n",
    "img_bi = cv2.copyMakeBorder(img_bi, 10, 10, 10, 10, cv2.BORDER_CONSTANT, value=255)\n",
    "print(img_bi.shape)\n",
    "print(img_bi[:20])\n",
    "\n",
    "im_list_bi = np.asarray(img_bi)\n",
    "plt.imshow(im_list_bi)\n",
    "plt.show()"
   ]
  },
  {
   "cell_type": "code",
   "execution_count": 16,
   "metadata": {},
   "outputs": [
    {
     "name": "stdout",
     "output_type": "stream",
     "text": [
      "contours : 4\n",
      "[[[  0   0]]\n",
      "\n",
      " [[  0 259]]\n",
      "\n",
      " [[259 259]]\n",
      "\n",
      " [[259   0]]]\n",
      "contours[1] : 95\n",
      "shape : (95, 1, 2)\n",
      "[[[128  29]]\n",
      "\n",
      " [[131  29]]\n",
      "\n",
      " [[134  30]]]\n",
      "hierarchy : 1\n",
      "(1, 4, 4)\n",
      "[[[-1 -1  1 -1]\n",
      "  [-1 -1  2  0]\n",
      "  [ 3 -1 -1  1]\n",
      "  [-1  2 -1  1]]]\n"
     ]
    }
   ],
   "source": [
    "# 輪郭の取得\n",
    "xmin = 0\n",
    "ymin = 0\n",
    "# CHAIN_APPROX_NONE\n",
    "# 　輪郭上のすべての座標を取得します。\n",
    "# cv2.CHAIN_APPROX_SIMPLE\n",
    "# 　縦、横、斜め45°方向に完全に直線の部分の輪郭の点を省略します。\n",
    "# cv2.CHAIN_APPROX_TC89_L1\n",
    "# 　輪郭の座標を直線で近似できる部分の輪郭の点を省略します。\n",
    "contours, hierarchy = cv2.findContours(img_bi, cv2.RETR_TREE, cv2.CHAIN_APPROX_TC89_L1, offset=(xmin, ymin))\n",
    "\n",
    "print(\"contours : \" + str(len(contours)))\n",
    "print(contours[0])\n",
    "print(\"contours[1] : \" + str(len(contours[1])))\n",
    "print(\"shape : \" + str(contours[1].shape))\n",
    "print(contours[1][:3])\n",
    "print(\"hierarchy : \" + str(len(hierarchy)))\n",
    "print(hierarchy.shape)\n",
    "print(hierarchy)"
   ]
  },
  {
   "cell_type": "code",
   "execution_count": 17,
   "id": "51903cc2",
   "metadata": {},
   "outputs": [
    {
     "data": {
      "image/png": "[encoded data removed]",
      "text/plain": [
       "<Figure size 432x288 with 1 Axes>"
      ]
     },
     "metadata": {
      "needs_background": "light"
     },
     "output_type": "display_data"
    }
   ],
   "source": [
    "#確認\n",
    "zero_img = np.zeros_like(img_bi, dtype=np.uint8) \n",
    "img_contour = cv2.drawContours(zero_img, contours, -1, (255), thickness=5)\n",
    "\n",
    "im_list = np.asarray(img_contour)\n",
    "plt.imshow(im_list)\n",
    "plt.show()"
   ]
  },
  {
   "cell_type": "code",
   "execution_count": 18,
   "id": "69fa1f75",
   "metadata": {},
   "outputs": [
    {
     "name": "stderr",
     "output_type": "stream",
     "text": [
      "/var/folders/4l/m0byp3xn42jbp2657xg83hmw0000gn/T/ipykernel_28592/3190859110.py:43: UserWarning: Matplotlib is currently using module://matplotlib_inline.backend_inline, which is a non-GUI backend, so cannot show the figure.\n",
      "  fig.show()\n"
     ]
    },
    {
     "data": {
      "image/png": "[encoded data removed]",
      "text/plain": [
       "<Figure size 500x500 with 1 Axes>"
      ]
     },
     "metadata": {
      "needs_background": "light"
     },
     "output_type": "display_data"
    }
   ],
   "source": [
    "# 確認\n",
    "data_lists = contours\n",
    "\n",
    "fig = plt.figure(figsize=(5,5),dpi=100)\n",
    "ax = fig.add_subplot(1,1,1)\n",
    "\n",
    "img_h, img_w = img_bi.shape\n",
    "ax.scatter(img_h/2, img_w/2, s=30, c=\"black\", edgecolors=\"black\")\n",
    "for i in range(len(data_lists)):\n",
    "  data = data_lists[i]\n",
    "  color = Get_Color(i, base_colors)\n",
    "\n",
    "  for n in range(len(data)):\n",
    "    px = data[n][0][0]\n",
    "    py = img_h - data[n][0][1]\n",
    "    ax.scatter(px, py, s=10, c=color, edgecolors=color)\n",
    "\n",
    "  lines = []\n",
    "  for c in range(len(data)):\n",
    "    line = []\n",
    "    p_a = [data[c][0][0], (img_h - data[c][0][1])]\n",
    "    if c != len(data) - 1:\n",
    "      p_b = [data[c+1][0][0], (img_h - data[c+1][0][1])]\n",
    "    else:\n",
    "      p_b = [data[0][0][0], (img_h - data[0][0][1])]\n",
    "    line = [p_a, p_b]\n",
    "    lines.append(line)\n",
    "\n",
    "    if c == 0:\n",
    "      level = hierarchy[0][i][3] + 1\n",
    "      ax.text(line[0][0] + 2, line[0][1] + 2, str(i) + \"_lv\" + str(level), color=\"black\", fontsize=16)\n",
    "      ax.text(line[0][0] + 2, line[0][1] + 2, str(i) + \"_lv\" + str(level), color=color, fontsize=15)\n",
    "    elif c < 6:\n",
    "      ax.text(line[0][0] + 2, line[0][1] + 2, str(c), color=color, fontsize=10)\n",
    "\n",
    "\n",
    "  lc = mcollections.LineCollection(lines, colors=color)\n",
    "  ax.add_collection(lc)\n",
    "\n",
    "ax.set_aspect ('equal')\n",
    "ax.set_xlabel('x')\n",
    "ax.set_ylabel('y')\n",
    "fig.show()"
   ]
  },
  {
   "cell_type": "code",
   "execution_count": 19,
   "id": "07365c39",
   "metadata": {},
   "outputs": [
    {
     "name": "stdout",
     "output_type": "stream",
     "text": [
      "contours[1] : 95\n",
      "[[[128  29]]\n",
      "\n",
      " [[131  29]]\n",
      "\n",
      " [[134  30]]\n",
      "\n",
      " [[138  32]]\n",
      "\n",
      " [[140  34]]\n",
      "\n",
      " [[145  36]]\n",
      "\n",
      " [[147  38]]\n",
      "\n",
      " [[152  40]]]\n",
      "approx_curve_list : 4\n",
      "[array([[[  0,   0]],\n",
      "\n",
      "       [[  0, 259]],\n",
      "\n",
      "       [[259, 259]],\n",
      "\n",
      "       [[259,   0]]], dtype=int32), array([[[128,  29]],\n",
      "\n",
      "       [[220,  83]],\n",
      "\n",
      "       [[219, 180]],\n",
      "\n",
      "       [[132, 230]],\n",
      "\n",
      "       [[ 39, 176]],\n",
      "\n",
      "       [[ 40,  80]]], dtype=int32), array([[[204,  98]],\n",
      "\n",
      "       [[138, 133]],\n",
      "\n",
      "       [[137, 209]],\n",
      "\n",
      "       [[203, 173]]], dtype=int32), array([[[ 63,  84]],\n",
      "\n",
      "       [[128, 120]],\n",
      "\n",
      "       [[197,  84]],\n",
      "\n",
      "       [[131,  47]]], dtype=int32)]\n",
      "approx_curve : 6\n",
      "[[[128  29]]\n",
      "\n",
      " [[220  83]]\n",
      "\n",
      " [[219 180]]\n",
      "\n",
      " [[132 230]]\n",
      "\n",
      " [[ 39 176]]\n",
      "\n",
      " [[ 40  80]]]\n",
      "figure_position_2d_original.shape\n",
      "(6, 1, 2)\n",
      "[[[128  29]]\n",
      "\n",
      " [[131  29]]\n",
      "\n",
      " [[134  30]]\n",
      "\n",
      " [[138  32]]\n",
      "\n",
      " [[140  34]]\n",
      "\n",
      " [[145  36]]\n",
      "\n",
      " [[147  38]]\n",
      "\n",
      " [[152  40]]]\n",
      "figure_position_2d_original.shape\n",
      "(6, 2)\n"
     ]
    }
   ],
   "source": [
    "print(\"contours[1] : \" + str(len(contours[1])))\n",
    "print(contours[1][:8])\n",
    "\n",
    "# 輪郭の大きさの取得\n",
    "cnt_lefttop_x, cnt_lefttop_y, cnt_width, cnt_height = cv2.boundingRect(contours[1])\n",
    "cnt_size = cnt_width\n",
    "if cnt_size < cnt_height:\n",
    "    cnt_size = cnt_height\n",
    "\n",
    "# サイズ調整のスケールの取得\n",
    "obj_sizing_scale = 1.0\n",
    "cnt_size = cnt_size * pixel_to_obj_raito * obj_size_scale\n",
    "if cnt_size > obj_maxsize and obj_maxsize > obj_minsize:\n",
    "    obj_sizing_scale = obj_maxsize / cnt_size\n",
    "elif cnt_size < obj_minsize and obj_maxsize > obj_minsize:\n",
    "    obj_sizing_scale = obj_minsize / cnt_size\n",
    "\n",
    "# 輪郭のポイントの省略処理\n",
    "epsilon = epsilon_raito * cv2.arcLength(contours[1],True)\n",
    "approx_curve_list = []\n",
    "for i in range(len(contours)):\n",
    "    curve = cv2.approxPolyDP(contours[i], epsilon=epsilon, closed=True)\n",
    "    approx_curve_list.append(curve)\n",
    "\n",
    "approx_curve = approx_curve_list[1]\n",
    "\n",
    "print(\"approx_curve_list : \" + str(len(approx_curve_list)))\n",
    "print(approx_curve_list)\n",
    "\n",
    "print(\"approx_curve : \" + str(len(approx_curve)))\n",
    "print(approx_curve[:8])\n",
    "\n",
    "figure_position_2d_original = np.array(approx_curve)\n",
    "print(\"figure_position_2d_original.shape\")\n",
    "print(figure_position_2d_original.shape)\n",
    "\n",
    "figure_position_2d_original = figure_position_2d_original.reshape(len(figure_position_2d_original), 2)\n",
    "print(contours[1][:8])\n",
    "print(\"figure_position_2d_original.shape\")\n",
    "print(figure_position_2d_original.shape)"
   ]
  },
  {
   "cell_type": "code",
   "execution_count": 20,
   "id": "42343861",
   "metadata": {},
   "outputs": [],
   "source": [
    "# ポジションのスケール調整関数\n",
    "img_h, img_w = img_bi.shape\n",
    "def PositionListWithScaleAdded(old_list, obj_raito, size_scale, sizing_scale, round_n):\n",
    "    new_list = []\n",
    "    for i in range(len(old_list)):\n",
    "        old_p = old_list[i]\n",
    "        px = old_p[0] * obj_raito * size_scale * sizing_scale\n",
    "        py = (img_h - old_p[1]) * obj_raito * size_scale * sizing_scale\n",
    "        new_p = [round(px, round_n), round(py, round_n)]\n",
    "        new_list.append(new_p)\n",
    "        \n",
    "    return new_list"
   ]
  },
  {
   "cell_type": "code",
   "execution_count": 21,
   "id": "bcd5a2f0",
   "metadata": {},
   "outputs": [
    {
     "name": "stdout",
     "output_type": "stream",
     "text": [
      "figure_position_2d_original : 6\n",
      "[[1.28 2.31]\n",
      " [2.2  1.77]\n",
      " [2.19 0.8 ]\n",
      " [1.32 0.3 ]\n",
      " [0.39 0.84]\n",
      " [0.4  1.8 ]]\n"
     ]
    }
   ],
   "source": [
    "tmp_list = PositionListWithScaleAdded(figure_position_2d_original, pixel_to_obj_raito, obj_size_scale, obj_sizing_scale, round_num_01)\n",
    "\n",
    "if is_reverse_list[0] == True:\n",
    "    tmp_list.reverse()\n",
    "\n",
    "figure_position_2d_original = np.array(tmp_list)\n",
    "print(\"figure_position_2d_original : \" + str(len(figure_position_2d_original)))\n",
    "print(figure_position_2d_original[:8])"
   ]
  },
  {
   "cell_type": "markdown",
   "id": "8a2623cc",
   "metadata": {},
   "source": [
    "### 準備、図形の頂点データを使用"
   ]
  },
  {
   "cell_type": "code",
   "execution_count": 22,
   "id": "0c642571",
   "metadata": {},
   "outputs": [],
   "source": [
    "figure_position_2d_markers = []\n",
    "\n",
    "for i in range(len(figure_position_2d_original)):\n",
    "    figure_position_2d_markers.append(2)\n",
    "figure_position_2d_markers= np.array(figure_position_2d_markers)"
   ]
  },
  {
   "cell_type": "code",
   "execution_count": 23,
   "id": "5af79533",
   "metadata": {},
   "outputs": [
    {
     "name": "stdout",
     "output_type": "stream",
     "text": [
      "figure_position_2d_original : 6\n",
      "[[1.28 2.31]\n",
      " [2.2  1.77]\n",
      " [2.19 0.8 ]\n",
      " [1.32 0.3 ]\n",
      " [0.39 0.84]\n",
      " [0.4  1.8 ]]\n",
      "figure_position_2d_markers : 6\n",
      "[2 2 2 2 2 2]\n",
      "figure_segment : 6\n",
      "[[0 1]\n",
      " [1 2]\n",
      " [2 3]\n",
      " [3 4]\n",
      " [4 5]\n",
      " [5 0]]\n",
      "figure_segment_markers : 6\n",
      "[2 2 2 2 2 2]\n"
     ]
    }
   ],
   "source": [
    "figure_segment = []\n",
    "figure_segment_markers = []\n",
    "\n",
    "for i in range(len(figure_position_2d_original)):\n",
    "    if i != len(figure_position_2d_original) -1:\n",
    "        seg = [i, i + 1]\n",
    "    else:\n",
    "        seg = [i, 0]\n",
    "    figure_segment.append(seg)\n",
    "    figure_segment_markers.append(2)\n",
    "    \n",
    "figure_segment = np.array(figure_segment)\n",
    "figure_segment_markers = np.array(figure_segment_markers)\n",
    "\n",
    "print(\"figure_position_2d_original : \" + str(len(figure_position_2d_original)))\n",
    "print(figure_position_2d_original[:8])\n",
    "print(\"figure_position_2d_markers : \" + str(len(figure_position_2d_markers)))\n",
    "print(figure_position_2d_markers[:8])\n",
    "print(\"figure_segment : \" + str(len(figure_segment)))\n",
    "print(figure_segment[:8])\n",
    "print(\"figure_segment_markers : \" + str(len(figure_segment_markers)))\n",
    "print(figure_segment_markers[:8])"
   ]
  },
  {
   "cell_type": "markdown",
   "id": "d4bd3643",
   "metadata": {},
   "source": [
    "#### ホール(穴)データの作成\n",
    "(座標リストの作成、スケール調整、辺のリスト、辺の番号リストの作成)"
   ]
  },
  {
   "cell_type": "markdown",
   "id": "070865e3",
   "metadata": {},
   "source": [
    "#### 作成。ホールの中心点、周囲の長さも取得"
   ]
  },
  {
   "cell_type": "code",
   "execution_count": 24,
   "id": "4940af86",
   "metadata": {},
   "outputs": [
    {
     "name": "stdout",
     "output_type": "stream",
     "text": [
      "Halls exist.\n",
      "\n",
      "hole 0 : 4\n",
      "hole 1 : 4\n",
      "\n",
      "holes_num_list : 2\n",
      "[2, 3]\n",
      "\n",
      "holes_position_list_original : 2\n",
      "  holes_position_list_original[0] : 4\n",
      "  holes_position_list_original[1] : 4\n",
      "[[[2.03, 0.87], [1.37, 0.51], [1.38, 1.27], [2.04, 1.62]], [[1.31, 2.13], [1.97, 1.76], [1.28, 1.4], [0.63, 1.76]]]\n",
      "\n",
      "holes_cp_list : 2\n",
      "[[1.705, 1.0675], [1.2975, 1.7625]]\n"
     ]
    }
   ],
   "source": [
    "holes_num_list = []\n",
    "holes_position_list_original = []\n",
    "holes_cp_list_original = []\n",
    "\n",
    "# 各ホールのデータ格納番号の取得\n",
    "first_child_num = hierarchy[0][1][2]\n",
    "if first_child_num != -1:\n",
    "    print(\"Halls exist.\\n\")\n",
    "\n",
    "    next_num = first_child_num\n",
    "    while next_num != -1:\n",
    "        holes_num_list.append(next_num)\n",
    "        next_num = hierarchy[0][next_num][0]\n",
    "\n",
    "else:\n",
    "    print(\"Halls does not exist.\")\n",
    "\n",
    "for i in range(len(holes_num_list)):\n",
    "    num = holes_num_list[i]\n",
    "    data = np.array(approx_curve_list[num])\n",
    "    data = data.reshape(len(data), 2)\n",
    "    print(\"hole \" + str(i) + \" : \" + str(len(data)))\n",
    "    data = PositionListWithScaleAdded(data, pixel_to_obj_raito, obj_size_scale, obj_sizing_scale, round_num_01)\n",
    "    if is_reverse_list[1] == True:\n",
    "        data.reverse()\n",
    "    holes_position_list_original.append(data)\n",
    "\n",
    "# 各ホールの中心点の取得\n",
    "for i in range(len(holes_position_list_original)):\n",
    "    data = holes_position_list_original[i]\n",
    "\n",
    "    total_x = 0\n",
    "    total_y = 0\n",
    "\n",
    "    for n in range(len(data)):\n",
    "        total_x += data[n][0]\n",
    "        total_y += data[n][1]\n",
    "\n",
    "    cpx = total_x / len(data)\n",
    "    cpy = total_y / len(data)\n",
    "\n",
    "    hole_cp = [round(cpx, round_num_01), round(cpy, round_num_01)]\n",
    "    holes_cp_list_original.append(hole_cp)\n",
    "\n",
    "\n",
    "print(\"\\nholes_num_list : \" + str(len(holes_num_list)))\n",
    "print(holes_num_list)\n",
    "\n",
    "print(\"\\nholes_position_list_original : \" + str(len(holes_position_list_original)))\n",
    "for i in range(len(holes_position_list_original)):\n",
    "    print(\"  holes_position_list_original[\" + str(i) + \"] : \" + str(len(holes_position_list_original[i])))\n",
    "print(holes_position_list_original)\n",
    "\n",
    "print(\"\\nholes_cp_list : \" + str(len(holes_cp_list_original)))\n",
    "print(holes_cp_list_original)"
   ]
  },
  {
   "cell_type": "code",
   "execution_count": 25,
   "id": "9ac6cf8d",
   "metadata": {},
   "outputs": [
    {
     "name": "stdout",
     "output_type": "stream",
     "text": [
      "holes_position_list_original : 2\n",
      "  holes_position_list[0] : 4\n",
      "  holes_position_list[1] : 4\n",
      "[[[2.03, 0.87], [1.37, 0.51], [1.38, 1.27], [2.04, 1.62]], [[1.31, 2.13], [1.97, 1.76], [1.28, 1.4], [0.63, 1.76]]]\n",
      "\n",
      "holes_position_markers_list : 2\n",
      "  holes_position_markers_list[0] : 4\n",
      "  holes_position_markers_list[1] : 4\n",
      "[[3, 3, 3, 3], [4, 4, 4, 4]]\n",
      "\n",
      "holes_segments_list : 2\n",
      "  holes_segments_list[0] : 4\n",
      "  holes_segments_list[1] : 4\n",
      "[[[6, 7], [7, 8], [8, 9], [9, 6]], [[10, 11], [11, 12], [12, 13], [13, 10]]]\n",
      "\n",
      "holes_segment_markers_list : 2\n",
      "  holes_segment_markers_list[0] : 4\n",
      "  holes_segment_markers_list[1] : 4\n",
      "[[3, 3, 3, 3], [4, 4, 4, 4]]\n"
     ]
    }
   ],
   "source": [
    "holes_position_markers_list =[]\n",
    "holes_segments_list = []\n",
    "holes_segment_markers_list =[]\n",
    "\n",
    "start_num = 2 + 1\n",
    "for i in range(len(holes_position_list_original)):\n",
    "    data = holes_position_list_original[i]\n",
    "    num = start_num + i\n",
    "\n",
    "    markers_list = []\n",
    "    for n in range(len(data)):\n",
    "        markers_list.append(num)\n",
    "    \n",
    "    holes_position_markers_list.append(markers_list)\n",
    "\n",
    "additional_num = len(figure_position_2d_original)\n",
    "for i in range(len(holes_position_list_original)):\n",
    "    data = holes_position_list_original[i]\n",
    "\n",
    "    segments_list = []\n",
    "    for n in range(len(data)):\n",
    "        n1 = n + additional_num\n",
    "        n2 = n + 1 + additional_num\n",
    "        if n == len(data) - 1:\n",
    "            n2 = 0 + additional_num\n",
    "        segment = [n1, n2]\n",
    "        segments_list.append(segment)\n",
    "\n",
    "    holes_segments_list.append(segments_list)\n",
    "    additional_num =  additional_num + len(data)\n",
    "\n",
    "for i in range(len(holes_segments_list)):\n",
    "    data = holes_segments_list[i]\n",
    "    num = start_num + i\n",
    "\n",
    "    markers_list = []\n",
    "    for n in range(len(data)):\n",
    "        markers_list.append(num)\n",
    "    \n",
    "    holes_segment_markers_list.append(markers_list)\n",
    "\n",
    "\n",
    "print(\"holes_position_list_original : \" + str(len(holes_position_list_original)))\n",
    "for i in range(len(holes_position_list_original)):\n",
    "    print(\"  holes_position_list[\" + str(i) + \"] : \" + str(len(holes_position_list_original[i])))\n",
    "print(holes_position_list_original[:2][:2])\n",
    "\n",
    "print(\"\\nholes_position_markers_list : \" + str(len(holes_position_markers_list)))\n",
    "for i in range(len(holes_position_markers_list)):\n",
    "    print(\"  holes_position_markers_list[\" + str(i) + \"] : \" + str(len(holes_position_markers_list[i])))\n",
    "print(holes_position_markers_list[:2][:2])\n",
    "\n",
    "print(\"\\nholes_segments_list : \" + str(len(holes_segments_list)))\n",
    "for i in range(len(holes_segments_list)):\n",
    "    print(\"  holes_segments_list[\" + str(i) + \"] : \" + str(len(holes_segments_list[i])))\n",
    "print(holes_segments_list[:2][:2])\n",
    "\n",
    "print(\"\\nholes_segment_markers_list : \" + str(len(holes_segment_markers_list)))\n",
    "for i in range(len(holes_segment_markers_list)):\n",
    "    print(\"  holes_segment_markers_list[\" + str(i) + \"] : \" + str(len(holes_segment_markers_list[i])))\n",
    "print(holes_segment_markers_list[:2][:2])"
   ]
  },
  {
   "cell_type": "code",
   "execution_count": 26,
   "id": "5c149524",
   "metadata": {},
   "outputs": [
    {
     "name": "stdout",
     "output_type": "stream",
     "text": [
      "holes_norms_list : 2\n",
      "  holes_norms_list[0] : 4\n",
      "  holes_norms_list[1] : 4\n",
      "[[0.7517978451684998, 0.7600657866263946, 0.7470609078247906, 0.7500666637039672], [0.7566372975210777, 0.7782673062643709, 0.743034319530397, 0.7741446893184762]]\n",
      "\n",
      "holes_perimeters_list : 2\n",
      "[3.008991203323652, 3.052083612634322]\n"
     ]
    }
   ],
   "source": [
    "holes_norms_list = []\n",
    "holes_perimeters_list = []\n",
    "\n",
    "for i in range(len(holes_position_list_original)):\n",
    "    data = np.array(holes_position_list_original[i])\n",
    "\n",
    "    fp = 0\n",
    "    norms_list = []\n",
    "    for n in range(len(data)):\n",
    "        if n == (len(data) - 1):\n",
    "            norm = np.linalg.norm(data[n]-data[0])\n",
    "            fp += norm\n",
    "        else:\n",
    "            norm = np.linalg.norm(data[n]-data[n+1])\n",
    "            fp += norm\n",
    "        norms_list.append(norm)\n",
    "\n",
    "    holes_norms_list.append(norms_list)\n",
    "    holes_perimeters_list.append(fp)\n",
    "\n",
    "\n",
    "print(\"holes_norms_list : \" + str(len(holes_norms_list)))\n",
    "for i in range(len(holes_norms_list)):\n",
    "    print(\"  holes_norms_list[\" + str(i) + \"] : \" + str(len(holes_norms_list[i])))\n",
    "print(holes_norms_list[:2][:2])\n",
    "\n",
    "print(\"\\nholes_perimeters_list : \" + str(len(holes_perimeters_list)))\n",
    "print(holes_perimeters_list)"
   ]
  },
  {
   "cell_type": "markdown",
   "id": "559ad4f0",
   "metadata": {},
   "source": [
    "#### 図形の中心点"
   ]
  },
  {
   "cell_type": "code",
   "execution_count": 27,
   "id": "0bc9b2ce",
   "metadata": {},
   "outputs": [
    {
     "name": "stdout",
     "output_type": "stream",
     "text": [
      "figure_cp : [1.2967, 1.3033]\n"
     ]
    }
   ],
   "source": [
    "total_x = 0\n",
    "total_y = 0\n",
    "\n",
    "for i in range(len(figure_position_2d_original)):\n",
    "    total_x += figure_position_2d_original[i][0]\n",
    "    total_y += figure_position_2d_original[i][1]\n",
    "\n",
    "cpx = total_x / len(figure_position_2d_original)\n",
    "cpy = total_y / len(figure_position_2d_original)\n",
    "\n",
    "figure_cp = [round(cpx, round_num_01), round(cpy, round_num_01)]\n",
    "print(\"figure_cp : \" + str(figure_cp))"
   ]
  },
  {
   "cell_type": "markdown",
   "id": "9057c2cc",
   "metadata": {},
   "source": [
    "#### 図形の周囲の長さ"
   ]
  },
  {
   "cell_type": "code",
   "execution_count": 28,
   "id": "194bfeb4",
   "metadata": {},
   "outputs": [
    {
     "name": "stdout",
     "output_type": "stream",
     "text": [
      "outer_side_norm_list : 6\n",
      "[1.0667708282475672, 0.970051545022222, 1.0034440691936946, 1.0754068997360953, 0.9600520819205592, 1.0171037311896953]\n",
      "figure_perimeter : 6.0928\n"
     ]
    }
   ],
   "source": [
    "outer_side_norm_list = []\n",
    "figure_perimeter = 0\n",
    "\n",
    "# 図形の全周の長さを算出\n",
    "fp = 0\n",
    "for i in range(len(figure_position_2d_original)):\n",
    "  if i == (len(figure_position_2d_original) - 1):\n",
    "    norm = np.linalg.norm(figure_position_2d_original[i]-figure_position_2d_original[0])\n",
    "    fp += norm\n",
    "    outer_side_norm_list.append(norm)\n",
    "  else:\n",
    "    norm = np.linalg.norm(figure_position_2d_original[i]-figure_position_2d_original[i+1])\n",
    "    fp += norm\n",
    "    outer_side_norm_list.append(norm)\n",
    "\n",
    "print(\"outer_side_norm_list : \" + str(len(outer_side_norm_list)))\n",
    "print(outer_side_norm_list)\n",
    "figure_perimeter = round(fp, round_num_01)\n",
    "print(\"figure_perimeter : \" + str(figure_perimeter))"
   ]
  },
  {
   "cell_type": "code",
   "execution_count": 29,
   "id": "b6237b9f",
   "metadata": {},
   "outputs": [
    {
     "name": "stderr",
     "output_type": "stream",
     "text": [
      "/var/folders/4l/m0byp3xn42jbp2657xg83hmw0000gn/T/ipykernel_28592/2723710238.py:27: UserWarning: Matplotlib is currently using module://matplotlib_inline.backend_inline, which is a non-GUI backend, so cannot show the figure.\n",
      "  fig.show()\n"
     ]
    },
    {
     "data": {
      "image/png": "[encoded data removed]",
      "text/plain": [
       "<Figure size 500x500 with 1 Axes>"
      ]
     },
     "metadata": {
      "needs_background": "light"
     },
     "output_type": "display_data"
    }
   ],
   "source": [
    "# 確認\n",
    "fig = plt.figure(figsize=(5,5),dpi=100)\n",
    "ax = fig.add_subplot(1,1,1)\n",
    "\n",
    "ax.scatter(figure_cp[0], figure_cp[1], s=30, c=\"purple\", edgecolors=\"purple\")\n",
    "ax.scatter(0, 0, s=30, c=\"red\", edgecolors=\"red\")\n",
    "for n in range(len(figure_position_2d_original)):\n",
    "  px = figure_position_2d_original[n][0]\n",
    "  py = figure_position_2d_original[n][1]\n",
    "  ax.scatter(px, py, s=50, c=\"green\", edgecolors=\"green\")\n",
    "\n",
    "  number = n\n",
    "  ax.text((px + 0.01) , (py + 0.01), str(number))\n",
    "\n",
    "for i in range(len(holes_position_list_original)):\n",
    "  data = holes_position_list_original[i]\n",
    "  for n in range(len(data)):\n",
    "    px = data[n][0]\n",
    "    py = data[n][1]\n",
    "    ax.scatter(px, py, s=50, c=\"blue\", edgecolors=\"blue\")\n",
    "\n",
    "    number = n\n",
    "    ax.text((px + 0.01) , (py + 0.01), str(number))\n",
    "ax.set_aspect ('equal')\n",
    "ax.set_xlabel('x')\n",
    "ax.set_ylabel('y')\n",
    "fig.show()"
   ]
  },
  {
   "cell_type": "markdown",
   "id": "fbd1262a",
   "metadata": {},
   "source": [
    "#### 中心点に合わせて頂点座標を調整"
   ]
  },
  {
   "cell_type": "code",
   "execution_count": 30,
   "id": "a427c303",
   "metadata": {},
   "outputs": [
    {
     "name": "stdout",
     "output_type": "stream",
     "text": [
      "figure_position_2d : 6\n",
      "[[-0.0167, 1.0067], [0.9033, 0.4667], [0.8933, -0.5033], [0.0233, -1.0033], [-0.9067, -0.4633], [-0.8967, 0.4967]]\n"
     ]
    }
   ],
   "source": [
    "figure_position_2d = []\n",
    "\n",
    "for i in range(len(figure_position_2d_original)):\n",
    "    old_p = figure_position_2d_original[i]\n",
    "    px = old_p[0] - figure_cp[0]\n",
    "    py = old_p[1] - figure_cp[1]\n",
    "    new_p = [round(px, round_num_01), round(py, round_num_01)]\n",
    "    figure_position_2d.append(new_p)\n",
    "\n",
    "print(\"figure_position_2d : \" + str(len(figure_position_2d)))\n",
    "print(figure_position_2d)"
   ]
  },
  {
   "cell_type": "code",
   "execution_count": 31,
   "id": "e73ce9b0",
   "metadata": {},
   "outputs": [
    {
     "name": "stdout",
     "output_type": "stream",
     "text": [
      "holes_position_list : 2\n",
      "  holes_position_list[0] : 4\n",
      "  holes_position_list[1] : 4\n",
      "[[[0.7333, -0.4333], [0.0733, -0.7933], [0.0833, -0.0333], [0.7433, 0.3167]], [[0.0133, 0.8267], [0.6733, 0.4567], [-0.0167, 0.0967], [-0.6667, 0.4567]]]\n",
      "\n",
      "hole_cp_list : 2\n",
      "  hole_cp_list[0] : 2\n",
      "  hole_cp_list[1] : 2\n",
      "[[0.4083, -0.2358], [0.0008, 0.4592]]\n"
     ]
    }
   ],
   "source": [
    "# ホール\n",
    "holes_position_list = []\n",
    "hole_cp_list = []\n",
    "\n",
    "for i in range(len(holes_position_list_original)):\n",
    "    data = holes_position_list_original[i]\n",
    "\n",
    "    tmp_list = []\n",
    "    for n in range(len(data)):\n",
    "        old_p = data[n]\n",
    "        px = old_p[0] - figure_cp[0]\n",
    "        py = old_p[1] - figure_cp[1]\n",
    "        new_p = [round(px, round_num_01), round(py, round_num_01)]\n",
    "        tmp_list.append(new_p)\n",
    "    holes_position_list.append(tmp_list)\n",
    "\n",
    "for i in range(len(holes_cp_list_original)):\n",
    "    old_cp = holes_cp_list_original[i]\n",
    "    pcx = old_cp[0] - figure_cp[0]\n",
    "    pcy = old_cp[1] - figure_cp[1]\n",
    "    new_cp = [round(pcx, round_num_01), round(pcy, round_num_01)]\n",
    "    hole_cp_list.append(new_cp)\n",
    "\n",
    "\n",
    "print(\"holes_position_list : \" + str(len(holes_position_list)))\n",
    "for i in range(len(holes_position_list)):\n",
    "    print(\"  holes_position_list[\" + str(i) + \"] : \" + str(len(holes_position_list[i])))\n",
    "print(holes_position_list[:2][:2])\n",
    "\n",
    "print(\"\\nhole_cp_list : \" + str(len(hole_cp_list)))\n",
    "for i in range(len(hole_cp_list)):\n",
    "    print(\"  hole_cp_list[\" + str(i) + \"] : \" + str(len(hole_cp_list[i])))\n",
    "print(hole_cp_list[:2][:2])"
   ]
  },
  {
   "cell_type": "code",
   "execution_count": 32,
   "id": "0d51ed06",
   "metadata": {},
   "outputs": [
    {
     "name": "stderr",
     "output_type": "stream",
     "text": [
      "/var/folders/4l/m0byp3xn42jbp2657xg83hmw0000gn/T/ipykernel_28592/2510377857.py:36: UserWarning: Matplotlib is currently using module://matplotlib_inline.backend_inline, which is a non-GUI backend, so cannot show the figure.\n",
      "  fig.show()\n"
     ]
    },
    {
     "data": {
      "image/png": "[encoded data removed]",
      "text/plain": [
       "<Figure size 500x500 with 1 Axes>"
      ]
     },
     "metadata": {
      "needs_background": "light"
     },
     "output_type": "display_data"
    }
   ],
   "source": [
    "# 確認\n",
    "fig = plt.figure(figsize=(5,5),dpi=100)\n",
    "ax = fig.add_subplot(1,1,1)\n",
    "\n",
    "ax.scatter(figure_cp[0], figure_cp[1], s=30, c=\"purple\", edgecolors=\"purple\")\n",
    "ax.scatter(0, 0, s=30, c=\"red\", edgecolors=\"red\")\n",
    "for n in range(len(figure_position_2d)):\n",
    "  px = figure_position_2d[n][0]\n",
    "  py = figure_position_2d[n][1]\n",
    "  ax.scatter(px, py, s=50, c=\"green\", edgecolors=\"green\")\n",
    "\n",
    "  number = n\n",
    "  ax.text((px + 0.01) , (py + 0.01), str(number))\n",
    "\n",
    "for i in range(len(holes_position_list)):\n",
    "  data = holes_position_list[i]\n",
    "  for n in range(len(data)):\n",
    "    px = data[n][0]\n",
    "    py = data[n][1]\n",
    "    ax.scatter(px, py, s=50, c=\"blue\", edgecolors=\"blue\")\n",
    "\n",
    "    number = n\n",
    "    ax.text((px + 0.01) , (py + 0.01), str(number))\n",
    "\n",
    "for n in range(len(hole_cp_list)):\n",
    "  px = hole_cp_list[n][0]\n",
    "  py = hole_cp_list[n][1]\n",
    "  ax.scatter(px, py, s=20, c=\"cyan\", edgecolors=\"cyan\")\n",
    "\n",
    "  number = n\n",
    "  ax.text((px + 0.01) , (py + 0.01), str(number))\n",
    "  \n",
    "ax.set_aspect ('equal')\n",
    "ax.set_xlabel('x')\n",
    "ax.set_ylabel('y')\n",
    "fig.show()"
   ]
  },
  {
   "cell_type": "markdown",
   "id": "9fa5b212",
   "metadata": {},
   "source": [
    "## Triangleデータの作成"
   ]
  },
  {
   "cell_type": "markdown",
   "id": "00fbaa0e",
   "metadata": {},
   "source": [
    "### Triangulator(三角測量)"
   ]
  },
  {
   "cell_type": "code",
   "execution_count": 33,
   "id": "52e71930",
   "metadata": {},
   "outputs": [
    {
     "name": "stdout",
     "output_type": "stream",
     "text": [
      "<class 'dict'>\n",
      "\n",
      "result\n",
      "vertices : 14\n",
      "vertex_markers : 14\n",
      "triangles : 16\n",
      "segments : 14\n",
      "segment_markers : 14\n",
      "holes : 2\n",
      "\n",
      "result[vertices] : 14\n",
      "[[-0.0167  1.0067]\n",
      " [ 0.9033  0.4667]\n",
      " [ 0.8933 -0.5033]\n",
      " [ 0.0233 -1.0033]\n",
      " [-0.9067 -0.4633]\n",
      " [-0.8967  0.4967]\n",
      " [ 0.7333 -0.4333]\n",
      " [ 0.0733 -0.7933]]\n",
      "result[triangles] : 16\n",
      "[[12  4  8]\n",
      " [ 4 12 13]\n",
      " [ 5 13  0]\n",
      " [13  5  4]\n",
      " [ 0 10 11]\n",
      " [10  0 13]\n",
      " [ 7  4  3]\n",
      " [ 7  2  6]]\n"
     ]
    }
   ],
   "source": [
    "figure = {}\n",
    "figure[\"vertices\"] = np.array(figure_position_2d)\n",
    "figure[\"vertex_markers\"] = np.array(figure_position_2d_markers)\n",
    "figure[\"segments\"] = np.array(figure_segment)\n",
    "figure[\"segment_markers\"] = np.array(figure_segment_markers)\n",
    "\n",
    "if len(holes_position_list) != 0:\n",
    "    vertices_list = figure_position_2d\n",
    "    vertex_markers_list = list(figure_position_2d_markers)\n",
    "    segments_list = list(figure_segment)\n",
    "    segment_markers_list = list(figure_segment_markers)\n",
    "\n",
    "    for i in range(len(holes_position_list)):\n",
    "        vertices_list = vertices_list + holes_position_list[i]\n",
    "        vertex_markers_list = vertex_markers_list + holes_position_markers_list[i]\n",
    "        segments_list = segments_list + holes_segments_list[i]\n",
    "        segment_markers_list = segment_markers_list + holes_segment_markers_list[i]\n",
    "\n",
    "    figure[\"vertices\"] = np.array(vertices_list)\n",
    "    figure[\"vertex_markers\"] = np.array(vertex_markers_list)\n",
    "    figure[\"segments\"] = np.array(segments_list)\n",
    "    figure[\"segment_markers\"] = np.array(segment_markers_list)\n",
    "    figure[\"holes\"] = np.array(hole_cp_list)\n",
    "\n",
    "# 確認\n",
    "print(type(figure))\n",
    "\n",
    "result = triangle.triangulate(figure, 'p')\n",
    "\n",
    "\n",
    "print(\"\\nresult\")\n",
    "for i in range(len(result)):\n",
    "    data_key = list(result.keys())[i]\n",
    "    print(str(data_key) + \" : \" + str(len(result[str(data_key)])))\n",
    "\n",
    "print(\"\\nresult[vertices] : \" + str(len(result[\"vertices\"])))\n",
    "print(result[\"vertices\"][:8])\n",
    "\n",
    "print(\"result[triangles] : \" + str(len(result[\"triangles\"])))\n",
    "print(result[\"triangles\"][:8])"
   ]
  },
  {
   "cell_type": "code",
   "execution_count": 34,
   "id": "4bef33ae",
   "metadata": {},
   "outputs": [
    {
     "name": "stderr",
     "output_type": "stream",
     "text": [
      "/var/folders/4l/m0byp3xn42jbp2657xg83hmw0000gn/T/ipykernel_28592/1755170740.py:33: UserWarning: Matplotlib is currently using module://matplotlib_inline.backend_inline, which is a non-GUI backend, so cannot show the figure.\n",
      "  fig.show()\n"
     ]
    },
    {
     "data": {
      "image/png": "[encoded data removed]",
      "text/plain": [
       "<Figure size 500x500 with 1 Axes>"
      ]
     },
     "metadata": {
      "needs_background": "light"
     },
     "output_type": "display_data"
    }
   ],
   "source": [
    "# 確認\n",
    "rt = result[\"triangles\"]\n",
    "\n",
    "tmp_all_position = figure_position_2d\n",
    "for i in range(len(holes_position_list)):\n",
    "  tmp_all_position = tmp_all_position + holes_position_list[i]\n",
    "\n",
    "fig = plt.figure(figsize=(5,5),dpi=100)\n",
    "ax = fig.add_subplot(1,1,1)\n",
    "ax.scatter(figure_cp[0], figure_cp[1], s=30, c=\"black\", edgecolors=\"black\")\n",
    "ax.scatter(0, 0, s=30, c=\"red\", edgecolors=\"red\")\n",
    "\n",
    "for i in range(len(rt)):\n",
    "  t = rt[i]\n",
    "  color = Get_Color(i, base_colors)\n",
    "\n",
    "  lines = [[tmp_all_position[t[0]], tmp_all_position[t[1]]], [tmp_all_position[t[1]], tmp_all_position[t[2]]], [tmp_all_position[t[2]], tmp_all_position[t[0]]]]\n",
    "\n",
    "  lc = mcollections.LineCollection(lines, colors=color)\n",
    "  ax.add_collection(lc)\n",
    "\n",
    "  for n in range(len(t)):\n",
    "    px = tmp_all_position[t[n]][0]\n",
    "    py = tmp_all_position[t[n]][1]\n",
    "    ax.scatter(px, py, s=50, c=color, edgecolors=color)\n",
    "\n",
    "    number = n\n",
    "    ax.text((px + 0.02*(i+1)) , (py + 0.02*(i+1)), str(number), color=color)\n",
    "\n",
    "ax.set_aspect ('equal')\n",
    "ax.set_xlabel('x')\n",
    "ax.set_ylabel('y')\n",
    "fig.show()"
   ]
  },
  {
   "cell_type": "markdown",
   "id": "933bbcf6",
   "metadata": {},
   "source": [
    "## 立体化"
   ]
  },
  {
   "cell_type": "markdown",
   "id": "8ab6a95d",
   "metadata": {},
   "source": [
    "### 頂点データの追加"
   ]
  },
  {
   "cell_type": "code",
   "execution_count": 35,
   "id": "54d7bcde",
   "metadata": {},
   "outputs": [
    {
     "name": "stdout",
     "output_type": "stream",
     "text": [
      "figure_holes_position : 8\n",
      "[[0.7333, -0.4333], [0.0733, -0.7933], [0.0833, -0.0333], [0.7433, 0.3167], [0.0133, 0.8267], [0.6733, 0.4567], [-0.0167, 0.0967], [-0.6667, 0.4567]]\n",
      "figure_position_with_holes : 14\n",
      "[[-0.0167, 1.0067], [0.9033, 0.4667], [0.8933, -0.5033], [0.0233, -1.0033], [-0.9067, -0.4633], [-0.8967, 0.4967], [0.7333, -0.4333], [0.0733, -0.7933], [0.0833, -0.0333], [0.7433, 0.3167], [0.0133, 0.8267], [0.6733, 0.4567], [-0.0167, 0.0967], [-0.6667, 0.4567]]\n",
      "top_surface_position_only_holes_list : 2\n",
      "[[(0.7333, 0.25, -0.4333), (0.0733, 0.25, -0.7933), (0.0833, 0.25, -0.0333), (0.7433, 0.25, 0.3167)], [(0.0133, 0.25, 0.8267), (0.6733, 0.25, 0.4567), (-0.0167, 0.25, 0.0967), (-0.6667, 0.25, 0.4567)]]\n",
      "bottom_surface_position_only_holes_list : 2\n",
      "[[(0.7333, -0.25, -0.4333), (0.0733, -0.25, -0.7933), (0.0833, -0.25, -0.0333), (0.7433, -0.25, 0.3167)], [(0.0133, -0.25, 0.8267), (0.6733, -0.25, 0.4567), (-0.0167, -0.25, 0.0967), (-0.6667, -0.25, 0.4567)]]\n",
      "top_surface_position : 14\n",
      "[(-0.0167, 0.25, 1.0067), (0.9033, 0.25, 0.4667), (0.8933, 0.25, -0.5033), (0.0233, 0.25, -1.0033), (-0.9067, 0.25, -0.4633), (-0.8967, 0.25, 0.4967), (0.7333, 0.25, -0.4333), (0.0733, 0.25, -0.7933), (0.0833, 0.25, -0.0333), (0.7433, 0.25, 0.3167), (0.0133, 0.25, 0.8267), (0.6733, 0.25, 0.4567), (-0.0167, 0.25, 0.0967), (-0.6667, 0.25, 0.4567)]\n",
      "bottom_surface_position : 14\n",
      "[(-0.0167, -0.25, 1.0067), (0.9033, -0.25, 0.4667), (0.8933, -0.25, -0.5033), (0.0233, -0.25, -1.0033), (-0.9067, -0.25, -0.4633), (-0.8967, -0.25, 0.4967), (0.7333, -0.25, -0.4333), (0.0733, -0.25, -0.7933), (0.0833, -0.25, -0.0333), (0.7433, -0.25, 0.3167), (0.0133, -0.25, 0.8267), (0.6733, -0.25, 0.4567), (-0.0167, -0.25, 0.0967), (-0.6667, -0.25, 0.4567)]\n"
     ]
    }
   ],
   "source": [
    "# position\n",
    "top_surface_position = []\n",
    "bottom_surface_position = []\n",
    "top_surface_position_only_holes_list = []\n",
    "bottom_surface_position_only_holes_list = []\n",
    "\n",
    "figure_holes_position = []\n",
    "figure_position_with_holes = []\n",
    "\n",
    "for i in range(len(holes_position_list)):\n",
    "  data = holes_position_list[i]\n",
    "\n",
    "  tp_list = []\n",
    "  bp_list = []\n",
    "  for n in range(len(data)):\n",
    "    p = data[n]\n",
    "    tp = (p[0], figure_height_half, p[1])\n",
    "    bp = (p[0], -figure_height_half, p[1])\n",
    "\n",
    "    tp_list.append(tp)\n",
    "    bp_list.append(bp)\n",
    "  top_surface_position_only_holes_list.append(tp_list)\n",
    "  bottom_surface_position_only_holes_list.append(bp_list)\n",
    "\n",
    "for i in range(len(holes_position_list)):\n",
    "  figure_holes_position = figure_holes_position + holes_position_list[i]\n",
    "\n",
    "figure_position_with_holes = figure_position_2d + figure_holes_position\n",
    "\n",
    "for i in range(len(figure_position_with_holes)):\n",
    "  p = figure_position_with_holes[i]\n",
    "  tp = (p[0], figure_height_half, p[1])\n",
    "  bp = (p[0], -figure_height_half, p[1])\n",
    "\n",
    "  top_surface_position.append(tp)\n",
    "  bottom_surface_position.append(bp)\n",
    "\n",
    "print(\"figure_holes_position : \" + str(len(figure_holes_position)))\n",
    "print(figure_holes_position[:])\n",
    "print(\"figure_position_with_holes : \" + str(len(figure_position_with_holes)))\n",
    "print(figure_position_with_holes[:])\n",
    "print(\"top_surface_position_only_holes_list : \" + str(len(top_surface_position_only_holes_list)))\n",
    "print(top_surface_position_only_holes_list[:])\n",
    "print(\"bottom_surface_position_only_holes_list : \" + str(len(bottom_surface_position_only_holes_list)))\n",
    "print(bottom_surface_position_only_holes_list[:])\n",
    "print(\"top_surface_position : \" + str(len(top_surface_position)))\n",
    "print(top_surface_position[:])\n",
    "print(\"bottom_surface_position : \" + str(len(bottom_surface_position)))\n",
    "print(bottom_surface_position[:])"
   ]
  },
  {
   "cell_type": "markdown",
   "id": "5b6ffd7f",
   "metadata": {},
   "source": [
    "#### 側面とホールのIndexリストの作成"
   ]
  },
  {
   "cell_type": "code",
   "execution_count": 36,
   "id": "ddcdc197",
   "metadata": {},
   "outputs": [
    {
     "name": "stdout",
     "output_type": "stream",
     "text": [
      "inner_side_position_length[0] : 4\n",
      "inner_side_position_length[1] : 4\n",
      "top_surface_position_length : 14\n",
      "figure_holes_position_length : 8\n",
      "outer_side_position_length : 6\n",
      "outer_side_index_list : 12\n",
      "[0, 1, 2, 3, 4, 5, 14, 15, 16, 17, 18, 19]\n",
      "inner_side_index_list : 2\n",
      "[[6, 7, 8, 9, 20, 21, 22, 23], [10, 11, 12, 13, 24, 25, 26, 27]]\n"
     ]
    }
   ],
   "source": [
    "top_surface_position_length = len(top_surface_position)\n",
    "figure_holes_position_length = len(figure_holes_position)\n",
    "outer_side_position_length = top_surface_position_length - figure_holes_position_length\n",
    "\n",
    "outer_side_index_list = []\n",
    "inner_side_index_list = []\n",
    "\n",
    "# Outer\n",
    "for i in range(outer_side_position_length):\n",
    "    n1 = i\n",
    "    n2 = i\n",
    "    index = n2\n",
    "    outer_side_index_list.append(index)\n",
    "for i in range(outer_side_position_length):\n",
    "    n1 = i + outer_side_position_length\n",
    "    n2 = i + top_surface_position_length\n",
    "    index = n2\n",
    "    outer_side_index_list.append(index)\n",
    "\n",
    "# Inner\n",
    "additional_num = 0\n",
    "for i in range(len(holes_position_list_original)):\n",
    "    data = holes_position_list_original[i]\n",
    "    inner_side_position_length = len(data)\n",
    "    print(\"inner_side_position_length[\" + str(i) +\"] : \" + str(inner_side_position_length))\n",
    "    index_list = []\n",
    "\n",
    "    for n in range(inner_side_position_length):\n",
    "        n1 = n\n",
    "        n2 = n + outer_side_position_length + additional_num\n",
    "        index = n2\n",
    "        index_list.append(index)\n",
    "    for n in range(inner_side_position_length):\n",
    "        n2 = n + top_surface_position_length + outer_side_position_length + additional_num\n",
    "        index = n2\n",
    "        index_list.append(index)\n",
    "\n",
    "    additional_num += inner_side_position_length\n",
    "    inner_side_index_list.append(index_list)\n",
    "\n",
    "print(\"top_surface_position_length : \" + str(top_surface_position_length))\n",
    "print(\"figure_holes_position_length : \" + str(figure_holes_position_length))\n",
    "print(\"outer_side_position_length : \" + str(outer_side_position_length))\n",
    "print(\"outer_side_index_list : \" + str(len(outer_side_index_list)))\n",
    "print(outer_side_index_list[:])\n",
    "print(\"inner_side_index_list : \" + str(len(inner_side_index_list)))\n",
    "print(inner_side_index_list[:])"
   ]
  },
  {
   "cell_type": "code",
   "execution_count": 37,
   "id": "ca9e742d",
   "metadata": {},
   "outputs": [
    {
     "name": "stdout",
     "output_type": "stream",
     "text": [
      "top_surface_triangle : 16\n",
      "[[8, 4, 12], [13, 12, 4], [0, 13, 5], [4, 5, 13], [11, 10, 0], [13, 0, 10], [3, 4, 7], [6, 2, 7], [3, 7, 2], [9, 2, 6], [12, 11, 8], [9, 8, 11], [11, 1, 9], [2, 9, 1], [0, 1, 11], [4, 8, 7]]\n",
      "bottom_surface_triangle : 16\n",
      "[[12, 4, 8], [4, 12, 13], [5, 13, 0], [13, 5, 4], [0, 10, 11], [10, 0, 13], [7, 4, 3], [7, 2, 6], [2, 7, 3], [6, 2, 9], [8, 11, 12], [11, 8, 9], [9, 1, 11], [1, 9, 2], [11, 1, 0], [7, 8, 4]]\n"
     ]
    }
   ],
   "source": [
    "# triangle\n",
    "top_surface_triangle = []\n",
    "bottom_surface_triangle = []\n",
    "\n",
    "top_surface_triangle = result[\"triangles\"].tolist() \n",
    "for i in range(len(top_surface_triangle)):\n",
    "  top_surface_triangle[i].reverse()\n",
    "bottom_surface_triangle = result[\"triangles\"].tolist()\n",
    "\n",
    "print(\"top_surface_triangle : \" + str(len(top_surface_triangle)))\n",
    "print(top_surface_triangle[:])\n",
    "print(\"bottom_surface_triangle : \" + str(len(bottom_surface_triangle)))\n",
    "print(bottom_surface_triangle[:])"
   ]
  },
  {
   "cell_type": "code",
   "execution_count": 38,
   "id": "d95a1428",
   "metadata": {},
   "outputs": [
    {
     "name": "stdout",
     "output_type": "stream",
     "text": [
      "outer_side_surface_triangle : 12\n",
      "[[15, 1, 0], [0, 14, 15], [16, 2, 1], [1, 15, 16], [17, 3, 2], [2, 16, 17], [18, 4, 3], [3, 17, 18], [19, 5, 4], [4, 18, 19], [14, 0, 5], [5, 19, 14]]\n",
      "inner_side_surface_triangle_list : 2\n",
      "[[[6, 7, 21], [21, 20, 6], [7, 8, 22], [22, 21, 7], [8, 9, 23], [23, 22, 8], [9, 6, 20], [20, 23, 9]], [[10, 11, 25], [25, 24, 10], [11, 12, 26], [26, 25, 11], [12, 13, 27], [27, 26, 12], [13, 10, 24], [24, 27, 13]]]\n",
      "inner_side_surface_triangle : 16\n",
      "[[6, 7, 21], [21, 20, 6], [7, 8, 22], [22, 21, 7], [8, 9, 23], [23, 22, 8], [9, 6, 20], [20, 23, 9], [10, 11, 25], [25, 24, 10], [11, 12, 26], [26, 25, 11], [12, 13, 27], [27, 26, 12], [13, 10, 24], [24, 27, 13]]\n"
     ]
    }
   ],
   "source": [
    "outer_side_surface_triangle = []\n",
    "inner_side_surface_triangle_list = []\n",
    "inner_side_surface_triangle = []\n",
    "\n",
    "sft = []\n",
    "n = 0\n",
    "additional_num = len(figure_holes_position)\n",
    "for i in range(len(figure_position_2d)):\n",
    "  pn1 = n + 1 + len(figure_position_2d) + additional_num\n",
    "  pn2 = n + 1\n",
    "  pn3 = n\n",
    "  if pn2 == len(figure_position_2d):\n",
    "    pn1 = len(figure_position_2d) + additional_num\n",
    "    pn2 = 0\n",
    "  pl1 = [pn1, pn2, pn3]\n",
    "\n",
    "  pn4 = n\n",
    "  pn5 = n + len(figure_position_2d) + additional_num\n",
    "  pn6 = n + 1 + len(figure_position_2d) + additional_num\n",
    "  if pn6 == (len(figure_position_2d)*2 + additional_num):\n",
    "    pn6 = len(figure_position_2d) + additional_num\n",
    "  pl2 = [pn4, pn5, pn6]\n",
    "\n",
    "  sft.append(pl1)\n",
    "  sft.append(pl2)\n",
    "\n",
    "  n += 1\n",
    "\n",
    "outer_side_surface_triangle = sft\n",
    "\n",
    "\n",
    "top_start_num = len(figure_position_2d)\n",
    "bottom_start_num = len(figure_position_2d) * 2 + len(figure_holes_position)\n",
    "for i in range(len(holes_position_list)):\n",
    "  data = holes_position_list[i]\n",
    "\n",
    "  sft = []\n",
    "  p = 0\n",
    "  for n in range(len(data)):\n",
    "    pn1 = p + 1 + bottom_start_num\n",
    "    pn2 = p + 1 + top_start_num\n",
    "    pn3 = p + top_start_num\n",
    "    if pn2 == (len(data) + top_start_num):\n",
    "      pn1 = bottom_start_num\n",
    "      pn2 = 0 + top_start_num\n",
    "    pl1 = [pn3, pn2, pn1]\n",
    "\n",
    "    pn4 = p + top_start_num\n",
    "    pn5 = p + bottom_start_num\n",
    "    pn6 = p + 1 + bottom_start_num\n",
    "    if pn6 == (len(data) + bottom_start_num):\n",
    "      pn6 = bottom_start_num\n",
    "    pl2 = [pn6, pn5, pn4]\n",
    "\n",
    "    sft.append(pl1)\n",
    "    sft.append(pl2)\n",
    "    inner_side_surface_triangle.append(pl1)\n",
    "    inner_side_surface_triangle.append(pl2)\n",
    "\n",
    "    p += 1\n",
    "    start_num = start_num + len(data)\n",
    "\n",
    "  top_start_num += len(data)\n",
    "  bottom_start_num += len(data)\n",
    "  inner_side_surface_triangle_list.append(sft)\n",
    "\n",
    "\n",
    "print(\"outer_side_surface_triangle : \" + str(len(outer_side_surface_triangle)))\n",
    "print(outer_side_surface_triangle[:])\n",
    "print(\"inner_side_surface_triangle_list : \" + str(len(inner_side_surface_triangle_list)))\n",
    "print(inner_side_surface_triangle_list[:])\n",
    "print(\"inner_side_surface_triangle : \" + str(len(inner_side_surface_triangle)))\n",
    "print(inner_side_surface_triangle[:])"
   ]
  },
  {
   "cell_type": "code",
   "execution_count": 39,
   "id": "0651d9b2",
   "metadata": {},
   "outputs": [
    {
     "name": "stdout",
     "output_type": "stream",
     "text": [
      "all_triangle_num : 60\n",
      "[[8, 4, 12], [13, 12, 4], [0, 13, 5], [4, 5, 13], [11, 10, 0], [13, 0, 10], [3, 4, 7], [6, 2, 7], [3, 7, 2], [9, 2, 6], [12, 11, 8], [9, 8, 11], [11, 1, 9], [2, 9, 1], [0, 1, 11], [4, 8, 7], [15, 1, 0], [0, 14, 15], [16, 2, 1], [1, 15, 16], [17, 3, 2], [2, 16, 17], [18, 4, 3], [3, 17, 18], [19, 5, 4], [4, 18, 19], [14, 0, 5], [5, 19, 14], [6, 7, 21], [21, 20, 6], [7, 8, 22], [22, 21, 7], [8, 9, 23], [23, 22, 8], [9, 6, 20], [20, 23, 9], [10, 11, 25], [25, 24, 10], [11, 12, 26], [26, 25, 11], [12, 13, 27], [27, 26, 12], [13, 10, 24], [24, 27, 13], [12, 4, 8], [4, 12, 13], [5, 13, 0], [13, 5, 4], [0, 10, 11], [10, 0, 13], [7, 4, 3], [7, 2, 6], [2, 7, 3], [6, 2, 9], [8, 11, 12], [11, 8, 9], [9, 1, 11], [1, 9, 2], [11, 1, 0], [7, 8, 4]]\n"
     ]
    }
   ],
   "source": [
    "all_triangle_num = top_surface_triangle + outer_side_surface_triangle + inner_side_surface_triangle + bottom_surface_triangle\n",
    "\n",
    "print(\"all_triangle_num : \" + str(len(all_triangle_num)))\n",
    "print(all_triangle_num[:])"
   ]
  },
  {
   "cell_type": "markdown",
   "id": "8e4cf611",
   "metadata": {},
   "source": [
    "#### 上面下面の頂点結合、側面Normal作成"
   ]
  },
  {
   "cell_type": "code",
   "execution_count": 40,
   "id": "8ebbda61",
   "metadata": {},
   "outputs": [
    {
     "name": "stdout",
     "output_type": "stream",
     "text": [
      "position_with_hole : 28\n",
      "[(-0.0167, 0.25, 1.0067), (0.9033, 0.25, 0.4667), (0.8933, 0.25, -0.5033), (0.0233, 0.25, -1.0033), (-0.9067, 0.25, -0.4633), (-0.8967, 0.25, 0.4967), (0.7333, 0.25, -0.4333), (0.0733, 0.25, -0.7933), (0.0833, 0.25, -0.0333), (0.7433, 0.25, 0.3167), (0.0133, 0.25, 0.8267), (0.6733, 0.25, 0.4567), (-0.0167, 0.25, 0.0967), (-0.6667, 0.25, 0.4567), (-0.0167, -0.25, 1.0067), (0.9033, -0.25, 0.4667), (0.8933, -0.25, -0.5033), (0.0233, -0.25, -1.0033), (-0.9067, -0.25, -0.4633), (-0.8967, -0.25, 0.4967), (0.7333, -0.25, -0.4333), (0.0733, -0.25, -0.7933), (0.0833, -0.25, -0.0333), (0.7433, -0.25, 0.3167), (0.0133, -0.25, 0.8267), (0.6733, -0.25, 0.4567), (-0.0167, -0.25, 0.0967), (-0.6667, -0.25, 0.4567)]\n",
      "position_only_hole_list : 4\n",
      "[[(0.7333, 0.25, -0.4333), (0.0733, 0.25, -0.7933), (0.0833, 0.25, -0.0333), (0.7433, 0.25, 0.3167)], [(0.0133, 0.25, 0.8267), (0.6733, 0.25, 0.4567), (-0.0167, 0.25, 0.0967), (-0.6667, 0.25, 0.4567)], [(0.7333, -0.25, -0.4333), (0.0733, -0.25, -0.7933), (0.0833, -0.25, -0.0333), (0.7433, -0.25, 0.3167)], [(0.0133, -0.25, 0.8267), (0.6733, -0.25, 0.4567), (-0.0167, -0.25, 0.0967), (-0.6667, -0.25, 0.4567)]]\n",
      "outer_side_normal : 6\n",
      "[array([0.50620057, 0.        , 0.86241578]), array([ 0.99994686,  0.        , -0.01030873]), array([ 0.49828388,  0.        , -0.86701394]), array([-0.50213552, -0.        , -0.86478895]), array([-0.99994575,  0.        ,  0.0104161 ]), array([-0.50142378,  0.        ,  0.86520182])]\n",
      "inner_side_normal : 8\n",
      "[array([-0.47885213,  0.        ,  0.87789557]), array([ 0.99991345,  0.        , -0.01315676]), array([ 0.46850263,  0.        , -0.8834621 ]), array([-0.99991112,  0.        ,  0.01333215]), array([-0.48900576, -0.        , -0.87228055]), array([-0.46256601,  0.        ,  0.88658485]), array([0.48449983, 0.        , 0.87479136]), array([ 0.47794683,  0.        , -0.87838877])]\n"
     ]
    }
   ],
   "source": [
    "# 上面下面の結合\n",
    "position_with_hole = top_surface_position + bottom_surface_position\n",
    "position_only_hole_list = top_surface_position_only_holes_list + bottom_surface_position_only_holes_list\n",
    "\n",
    "outer_side_normal = []\n",
    "inner_side_normal = []\n",
    "\n",
    "num = len(figure_position_2d)\n",
    "additional_num = len(figure_holes_position)\n",
    "\n",
    "for i in range(num):\n",
    "  if i != (num-1):\n",
    "    p_num1 = i\n",
    "    p_num2 = i + 1\n",
    "    p_num3 = i + num + 1 + additional_num\n",
    "\n",
    "    p1 = position_with_hole[p_num1]\n",
    "    p2 = position_with_hole[p_num2]\n",
    "    p3 = position_with_hole[p_num3]\n",
    "\n",
    "    v1 = np.array(p1) - np.array(p2)\n",
    "    v2 = np.array(p3) - np.array(p2)\n",
    "    c = np.cross(v1, v2)\n",
    "    n_c = np.linalg.norm(c)\n",
    "    u = c / n_c\n",
    "\n",
    "    outer_side_normal.append(u)\n",
    "  else:\n",
    "    p_num1 = i\n",
    "    p_num2 = 0\n",
    "    p_num3 = 0 + num + additional_num\n",
    "\n",
    "    p1 = position_with_hole[p_num1]\n",
    "    p2 = position_with_hole[p_num2]\n",
    "    p3 = position_with_hole[p_num3]\n",
    "\n",
    "    v1 = np.array(p1) - np.array(p2)\n",
    "    v2 = np.array(p3) - np.array(p2)\n",
    "    c = np.cross(v1, v2)\n",
    "    n_c = np.linalg.norm(c)\n",
    "    u = c / n_c\n",
    "\n",
    "    outer_side_normal.append(u)\n",
    "\n",
    "\n",
    "for i in range(len(holes_position_list)):\n",
    "  data = top_surface_position_only_holes_list[i] + bottom_surface_position_only_holes_list[i]\n",
    "  num = len(top_surface_position_only_holes_list[i])\n",
    "\n",
    "  for n in range(num):\n",
    "    if n != (num-1):\n",
    "      p_num1 = n\n",
    "      p_num2 = n + 1\n",
    "      p_num3 = n + num + 1\n",
    "\n",
    "      p1 = data[p_num1]\n",
    "      p2 = data[p_num2]\n",
    "      p3 = data[p_num3]\n",
    "\n",
    "      v1 = np.array(p1) - np.array(p2)\n",
    "      v2 = np.array(p3) - np.array(p2)\n",
    "      c = np.cross(v2, v1)\n",
    "      n_c = np.linalg.norm(c)\n",
    "      u = c / n_c\n",
    "\n",
    "      inner_side_normal.append(u)\n",
    "    else:\n",
    "      p_num1 = n\n",
    "      p_num2 = 0 # 基点\n",
    "      p_num3 = 0 + num\n",
    "\n",
    "      p1 = data[p_num1]\n",
    "      p2 = data[p_num2]\n",
    "      p3 = data[p_num3]\n",
    "\n",
    "      v1 = np.array(p1) - np.array(p2)\n",
    "      v2 = np.array(p3) - np.array(p2)\n",
    "      c = np.cross(v2, v1)\n",
    "      n_c = np.linalg.norm(c)\n",
    "      u = c / n_c\n",
    "\n",
    "      inner_side_normal.append(u)\n",
    "\n",
    "\n",
    "print(\"position_with_hole : \" + str(len(position_with_hole)))\n",
    "print(position_with_hole[:])\n",
    "print(\"position_only_hole_list : \" + str(len(position_only_hole_list)))\n",
    "print(position_only_hole_list[:])\n",
    "print(\"outer_side_normal : \" + str(len(outer_side_normal)))\n",
    "print(outer_side_normal[:])\n",
    "print(\"inner_side_normal : \" + str(len(inner_side_normal)))\n",
    "print(inner_side_normal[:])"
   ]
  },
  {
   "cell_type": "markdown",
   "id": "bba0cd6b",
   "metadata": {},
   "source": [
    "## UV Mapの作成"
   ]
  },
  {
   "cell_type": "markdown",
   "id": "5358f853",
   "metadata": {},
   "source": [
    "### 関数"
   ]
  },
  {
   "cell_type": "code",
   "execution_count": 41,
   "id": "5303cc44",
   "metadata": {},
   "outputs": [],
   "source": [
    "# 確認用の関数\n",
    "def Display_Sides_And_Points(side_list, p_list, diff):\n",
    "  fig = plt.figure(figsize=(10,10),dpi=100)\n",
    "  ax = fig.add_subplot(1, 1, 1)\n",
    "\n",
    "  for i in range(len(p_list)):\n",
    "    color = Get_Color(i, base_colors)\n",
    "    ax.scatter(p_list[i][0], p_list[i][1], c=color, edgecolors=color)\n",
    "    ax.text((p_list[i][0] + diff), (p_list[i][1] + diff), str(i), color=color)\n",
    "\n",
    "  for i in range(len(side_list)):\n",
    "    color = Get_Color(i, base_colors)\n",
    "    lines = [[side_list[i][0], side_list[i][1]]]\n",
    "    lc = mcollections.LineCollection(lines, colors=color)\n",
    "    ax.add_collection(lc)\n",
    "\n",
    "    px1 = side_list[i][0][0]\n",
    "    py1 = side_list[i][0][1]\n",
    "    px2 = side_list[i][1][0]\n",
    "    py2 = side_list[i][1][1]\n",
    "    ax.scatter(px1, py1, s=50, c=color, edgecolors=color)\n",
    "    ax.scatter(px2, py2, s=50, c=color, edgecolors=color)\n",
    "\n",
    "    number_str = str(i) + \"_\"\n",
    "    ax.text((px1 + diff*(i+0.2)) , (py1 + diff*(i+0.2)), number_str + str(0) , color=color)\n",
    "    ax.text((px2 + diff*(i+0.2)) , (py2 + diff*(i+0.2)), number_str + str(1), color=color)\n",
    "\n",
    "  ax.set_aspect ('equal')\n",
    "  ax.set_xlabel('x')\n",
    "  ax.set_ylabel('y')\n",
    "  fig.show()"
   ]
  },
  {
   "cell_type": "markdown",
   "id": "1d7b3bf0",
   "metadata": {},
   "source": [
    "### 展開図の作成の準備"
   ]
  },
  {
   "cell_type": "markdown",
   "id": "182933d2",
   "metadata": {},
   "source": [
    "#### 展開図の大きさと中心点の取得"
   ]
  },
  {
   "cell_type": "code",
   "execution_count": 42,
   "id": "7afa0edf",
   "metadata": {},
   "outputs": [
    {
     "name": "stdout",
     "output_type": "stream",
     "text": [
      "holes_num : 2\n",
      "geometric_net_size : [8.651776, 8.651776]\n",
      "geometric_net_half_size : [8.651776, 4.325888]\n",
      "geometric_net_quarter_size : [4.325888, 4.325888]\n",
      "geometric_net_cp : [4.325888, 4.325888]\n"
     ]
    }
   ],
   "source": [
    "geometric_net_size = []\n",
    "geometric_net_half_size = []\n",
    "geometric_net_quarter_size = []\n",
    "geometric_net_cp = []\n",
    "\n",
    "holes_num = len(holes_position_list)\n",
    "w = figure_perimeter * 1.42\n",
    "h = (figure_height + figure_height * holes_num) * 2\n",
    "\n",
    "if w > h:\n",
    "  geometric_net_size = [w, w]\n",
    "  geometric_net_half_size = [w, w/2]\n",
    "  geometric_net_quarter_size = [w/2, w/2]\n",
    "  geometric_net_cp = [w/2, w/2]\n",
    "else:\n",
    "  geometric_net_size = [h, h]\n",
    "  geometric_net_half_size = [h, h/2]\n",
    "  geometric_net_quarter_size = [h/2, h/2]\n",
    "  geometric_net_cp = [h/2, h/2]\n",
    "\n",
    "print(\"holes_num : \" + str(holes_num))\n",
    "print(\"geometric_net_size : \" + str(geometric_net_size))\n",
    "print(\"geometric_net_half_size : \" + str(geometric_net_half_size))\n",
    "print(\"geometric_net_quarter_size : \" + str(geometric_net_quarter_size))\n",
    "print(\"geometric_net_cp : \" + str(geometric_net_cp))"
   ]
  },
  {
   "cell_type": "code",
   "execution_count": 43,
   "id": "b940a5c3",
   "metadata": {},
   "outputs": [
    {
     "name": "stdout",
     "output_type": "stream",
     "text": [
      "outer_side_surface_cp_on_geometric_net : [4.325888, 0.721]\n",
      "inner_side_surface_cp_on_geometric_net_list : [[4.325888, 2.163], [4.325888, 3.605]]\n",
      "top_surface_cp_on_geometric_net : [2.162944, 6.488832]\n",
      "bottom_surface_cp_on_geometric_net : [6.488832, 6.488832]\n"
     ]
    }
   ],
   "source": [
    "outer_side_surface_cp_on_geometric_net = [geometric_net_half_size[0]/2, geometric_net_half_size[1]/2]\n",
    "inner_side_surface_cp_on_geometric_net_list = []\n",
    "if holes_num != 0:\n",
    "    split_height = round(geometric_net_half_size[1] / ((holes_num + 1) * 2), round_num_01)\n",
    "    outer_side_surface_cp_on_geometric_net = [geometric_net_half_size[0]/2, split_height]\n",
    "    for i in range(holes_num):\n",
    "        cp = [geometric_net_half_size[0]/2, (split_height * ((i + 1) * 2 + 1))]\n",
    "        inner_side_surface_cp_on_geometric_net_list.append(cp)\n",
    "\n",
    "tmp_cp = [geometric_net_quarter_size[0]/2, geometric_net_quarter_size[1]/2]\n",
    "top_surface_cp_on_geometric_net = [tmp_cp[0], geometric_net_quarter_size[1] + tmp_cp[1]]\n",
    "bottom_surface_cp_on_geometric_net = [geometric_net_quarter_size[0] + tmp_cp[0], geometric_net_quarter_size[1] + tmp_cp[1]]\n",
    "\n",
    "print(\"outer_side_surface_cp_on_geometric_net : \" + str(outer_side_surface_cp_on_geometric_net))\n",
    "print(\"inner_side_surface_cp_on_geometric_net_list : \" + str(inner_side_surface_cp_on_geometric_net_list))\n",
    "print(\"top_surface_cp_on_geometric_net : \" + str(top_surface_cp_on_geometric_net))\n",
    "print(\"bottom_surface_cp_on_geometric_net : \" + str(bottom_surface_cp_on_geometric_net))"
   ]
  },
  {
   "cell_type": "code",
   "execution_count": 44,
   "id": "f179ac52",
   "metadata": {},
   "outputs": [
    {
     "name": "stderr",
     "output_type": "stream",
     "text": [
      "/var/folders/4l/m0byp3xn42jbp2657xg83hmw0000gn/T/ipykernel_28592/231197490.py:31: UserWarning: Matplotlib is currently using module://matplotlib_inline.backend_inline, which is a non-GUI backend, so cannot show the figure.\n",
      "  fig.show()\n"
     ]
    },
    {
     "data": {
      "image/png": "[encoded data removed]",
      "text/plain": [
       "<Figure size 1000x1000 with 1 Axes>"
      ]
     },
     "metadata": {
      "needs_background": "light"
     },
     "output_type": "display_data"
    }
   ],
   "source": [
    "# 確認\n",
    "horizon_side = [[0, geometric_net_cp[1]],[geometric_net_size[0], geometric_net_cp[1]]]\n",
    "vertical_side = [[geometric_net_cp[0], 0],[geometric_net_cp[0], geometric_net_size[1]]]\n",
    "\n",
    "lines = []\n",
    "lines.append(horizon_side)\n",
    "lines.append(vertical_side)\n",
    "\n",
    "points = []\n",
    "points.append(outer_side_surface_cp_on_geometric_net)\n",
    "for i in range(len(inner_side_surface_cp_on_geometric_net_list)):\n",
    "    points.append(inner_side_surface_cp_on_geometric_net_list[i])\n",
    "points.append(top_surface_cp_on_geometric_net)\n",
    "points.append(bottom_surface_cp_on_geometric_net)\n",
    "\n",
    "Display_Sides_And_Points(lines, points, 0.1)"
   ]
  },
  {
   "cell_type": "markdown",
   "id": "74024623",
   "metadata": {},
   "source": [
    "#### 展開図の作成"
   ]
  },
  {
   "cell_type": "code",
   "execution_count": 45,
   "id": "15f8af17",
   "metadata": {},
   "outputs": [
    {
     "name": "stdout",
     "output_type": "stream",
     "text": [
      "start_p : [-3.0464, 0.25]\n",
      "start_p : [-3.0464, -0.25]\n",
      "outer_side_point_on_geometric_net : 14\n",
      "[[-3.0464, 0.25], [-1.979629171752433, 0.25], [-1.009577626730211, 0.25], [-0.006133557536516676, 0.25], [1.0692733421995788, 0.25], [2.029325424120138, 0.25], [3.0464291553098333, 0.25], [-3.0464, -0.25], [-1.979629171752433, -0.25], [-1.009577626730211, -0.25], [-0.006133557536516676, -0.25], [1.0692733421995788, -0.25], [2.029325424120138, -0.25], [3.0464291553098333, -0.25]]\n"
     ]
    }
   ],
   "source": [
    "outer_side_point_on_geometric_net = []\n",
    "\n",
    "start_p1 = [-figure_perimeter/2, figure_height_half]\n",
    "start_p2 = [-figure_perimeter/2, -figure_height_half]\n",
    "print(\"start_p : \" + str(start_p1))\n",
    "print(\"start_p : \" + str(start_p2))\n",
    "\n",
    "ls1 = []\n",
    "ls2 = []\n",
    "ls1.append(start_p1)\n",
    "ls2.append(start_p2)\n",
    "px = 0\n",
    "for i in range(len(outer_side_norm_list)):\n",
    "  px += outer_side_norm_list[i]\n",
    "  p1 = [start_p1[0]+px, start_p1[1]]\n",
    "  p2 = [start_p2[0]+px, start_p2[1]]\n",
    "  ls1.append(p1)\n",
    "  ls2.append(p2)\n",
    "\n",
    "outer_side_point_on_geometric_net = ls1 + ls2\n",
    "print(\"outer_side_point_on_geometric_net : \" + str(len(outer_side_point_on_geometric_net)))\n",
    "print(outer_side_point_on_geometric_net)"
   ]
  },
  {
   "cell_type": "code",
   "execution_count": 46,
   "id": "6c1ce671",
   "metadata": {},
   "outputs": [
    {
     "name": "stdout",
     "output_type": "stream",
     "text": [
      "inner_side_point_on_geometric_net_list : 2\n",
      "[[[-3.0464, 0.25], [-2.2946021548315003, 0.25], [-1.5345363682051059, 0.25], [-0.7874754603803154, 0.25], [-0.03740879667634811, 0.25], [-3.0464, -0.25], [-2.2946021548315003, -0.25], [-1.5345363682051059, -0.25], [-0.7874754603803154, -0.25], [-0.03740879667634811, -0.25]], [[-3.0464, 0.25], [-2.2897627024789227, 0.25], [-1.5114953962145516, 0.25], [-0.7684610766841544, 0.25], [0.005683612634321822, 0.25], [-3.0464, -0.25], [-2.2897627024789227, -0.25], [-1.5114953962145516, -0.25], [-0.7684610766841544, -0.25], [0.005683612634321822, -0.25]]]\n",
      "inner_side_point_on_geometric_net_list[0] : 10\n",
      "[[-3.0464, 0.25], [-2.2946021548315003, 0.25], [-1.5345363682051059, 0.25], [-0.7874754603803154, 0.25], [-0.03740879667634811, 0.25], [-3.0464, -0.25], [-2.2946021548315003, -0.25], [-1.5345363682051059, -0.25], [-0.7874754603803154, -0.25], [-0.03740879667634811, -0.25]]\n"
     ]
    }
   ],
   "source": [
    "inner_side_point_on_geometric_net_list = []\n",
    "\n",
    "for i in range(len(holes_norms_list)):\n",
    "    norms_list = holes_norms_list[i]\n",
    "    ls1 = []\n",
    "    ls2 = []\n",
    "    ls1.append(start_p1)\n",
    "    ls2.append(start_p2)\n",
    "    px = 0\n",
    "\n",
    "    for n in range(len(norms_list)):\n",
    "        px += norms_list[n]\n",
    "        p1 = [start_p1[0]+px, start_p1[1]]\n",
    "        p2 = [start_p2[0]+px, start_p2[1]]\n",
    "        ls1.append(p1)\n",
    "        ls2.append(p2)\n",
    "    tmp_list = ls1 + ls2\n",
    "    inner_side_point_on_geometric_net_list.append(tmp_list)\n",
    "\n",
    "print(\"inner_side_point_on_geometric_net_list : \" + str(len(inner_side_point_on_geometric_net_list)))\n",
    "print(inner_side_point_on_geometric_net_list)\n",
    "if len(inner_side_point_on_geometric_net_list) > 0:\n",
    "    print(\"inner_side_point_on_geometric_net_list[0] : \" + str(len(inner_side_point_on_geometric_net_list[0])))\n",
    "    print(inner_side_point_on_geometric_net_list[0])"
   ]
  },
  {
   "cell_type": "code",
   "execution_count": 47,
   "id": "cf5fb0ae",
   "metadata": {},
   "outputs": [
    {
     "name": "stdout",
     "output_type": "stream",
     "text": [
      "outer_side_surface_p_on_geometric_net : 14\n",
      "[[1.2794879999999997, 0.971], [2.346258828247567, 0.971], [3.316310373269789, 0.971], [4.319754442463483, 0.971], [5.395161342199579, 0.971], [6.355213424120138, 0.971], [7.372317155309833, 0.971], [1.2794879999999997, 0.471], [2.346258828247567, 0.471], [3.316310373269789, 0.471], [4.319754442463483, 0.471], [5.395161342199579, 0.471], [6.355213424120138, 0.471], [7.372317155309833, 0.471]]\n",
      "inner_side_surface_p_on_geometric_net_list : 2\n",
      "[[[1.2794879999999997, 2.413], [2.0312858451684996, 2.413], [2.7913516317948943, 2.413], [3.5384125396196846, 2.413], [4.288479203323652, 2.413], [1.2794879999999997, 1.9129999999999998], [2.0312858451684996, 1.9129999999999998], [2.7913516317948943, 1.9129999999999998], [3.5384125396196846, 1.9129999999999998], [4.288479203323652, 1.9129999999999998]], [[1.2794879999999997, 3.855], [2.0361252975210773, 3.855], [2.814392603785448, 3.855], [3.5574269233158455, 3.855], [4.331571612634322, 3.855], [1.2794879999999997, 3.355], [2.0361252975210773, 3.355], [2.814392603785448, 3.355], [3.5574269233158455, 3.355], [4.331571612634322, 3.355]]]\n",
      "inner_side_surface_p_on_geometric_net_list[0] : 10\n",
      "[[1.2794879999999997, 2.413], [2.0312858451684996, 2.413], [2.7913516317948943, 2.413], [3.5384125396196846, 2.413], [4.288479203323652, 2.413], [1.2794879999999997, 1.9129999999999998], [2.0312858451684996, 1.9129999999999998], [2.7913516317948943, 1.9129999999999998], [3.5384125396196846, 1.9129999999999998], [4.288479203323652, 1.9129999999999998]]\n",
      "top_surface_p_on_geometric_net : 14\n",
      "[[2.146244, 7.495532000000001], [3.066244, 6.955532000000001], [3.056244, 5.985532], [2.186244, 5.485532], [1.2562440000000001, 6.025532], [1.266244, 6.985532], [2.896244, 6.055532], [2.236244, 5.695532], [2.246244, 6.455532000000001], [2.906244, 6.805532], [2.176244, 7.315532], [2.8362439999999998, 6.945532], [2.146244, 6.585532000000001], [1.496244, 6.945532]]\n",
      "bottom_surface_p_on_geometric_net : 14\n",
      "[[6.472132, 7.495532000000001], [7.392132, 6.955532000000001], [7.382132, 5.985532], [6.512132, 5.485532], [5.5821320000000005, 6.025532], [5.592132, 6.985532], [7.222132, 6.055532], [6.562132, 5.695532], [6.572132000000001, 6.455532000000001], [7.232132, 6.805532], [6.5021320000000005, 7.315532], [7.162132000000001, 6.945532], [6.472132, 6.585532000000001], [5.822132000000001, 6.945532]]\n"
     ]
    }
   ],
   "source": [
    "outer_side_surface_p_on_geometric_net = []\n",
    "inner_side_surface_p_on_geometric_net_list = []\n",
    "top_surface_p_on_geometric_net = []\n",
    "bottom_surface_p_on_geometric_net = []\n",
    "\n",
    "for i in range(len(outer_side_point_on_geometric_net)):\n",
    "  old_p = outer_side_point_on_geometric_net[i]\n",
    "  s_p = [old_p[0] + outer_side_surface_cp_on_geometric_net[0], old_p[1] + outer_side_surface_cp_on_geometric_net[1]]\n",
    "  outer_side_surface_p_on_geometric_net.append(s_p)\n",
    "\n",
    "for i in range(len(inner_side_point_on_geometric_net_list)):\n",
    "  p_list = inner_side_point_on_geometric_net_list[i]\n",
    "\n",
    "  tmp_list = []\n",
    "  for n in range(len(p_list)):\n",
    "    old_p = p_list[n]\n",
    "    s_p = [old_p[0] + inner_side_surface_cp_on_geometric_net_list[i][0], old_p[1] + inner_side_surface_cp_on_geometric_net_list[i][1]]\n",
    "    tmp_list.append(s_p)\n",
    "  inner_side_surface_p_on_geometric_net_list.append(tmp_list)\n",
    "\n",
    "for i in range(len(figure_position_with_holes)):\n",
    "  old_p = figure_position_with_holes[i]\n",
    "\n",
    "  t_diff = [top_surface_cp_on_geometric_net[0], top_surface_cp_on_geometric_net[1]]\n",
    "  b_diff = [bottom_surface_cp_on_geometric_net[0], bottom_surface_cp_on_geometric_net[1]]\n",
    "\n",
    "\n",
    "  t_p = [old_p[0] + t_diff[0], old_p[1] + t_diff[1]]\n",
    "  b_p = [old_p[0] + b_diff[0], old_p[1] + b_diff[1]]\n",
    "\n",
    "  top_surface_p_on_geometric_net.append(t_p)\n",
    "  bottom_surface_p_on_geometric_net.append(b_p)\n",
    "\n",
    "print(\"outer_side_surface_p_on_geometric_net : \" + str(len(outer_side_surface_p_on_geometric_net)))\n",
    "print(outer_side_surface_p_on_geometric_net)\n",
    "print(\"inner_side_surface_p_on_geometric_net_list : \" + str(len(inner_side_surface_p_on_geometric_net_list)))\n",
    "print(inner_side_surface_p_on_geometric_net_list)\n",
    "if len(inner_side_surface_p_on_geometric_net_list) > 0:\n",
    "    print(\"inner_side_surface_p_on_geometric_net_list[0] : \" + str(len(inner_side_surface_p_on_geometric_net_list[0])))\n",
    "    print(inner_side_surface_p_on_geometric_net_list[0])\n",
    "print(\"top_surface_p_on_geometric_net : \" + str(len(top_surface_p_on_geometric_net)))\n",
    "print(top_surface_p_on_geometric_net)\n",
    "print(\"bottom_surface_p_on_geometric_net : \" + str(len(bottom_surface_p_on_geometric_net)))\n",
    "print(bottom_surface_p_on_geometric_net)"
   ]
  },
  {
   "cell_type": "code",
   "execution_count": 48,
   "id": "dd1448ee",
   "metadata": {},
   "outputs": [
    {
     "name": "stderr",
     "output_type": "stream",
     "text": [
      "/var/folders/4l/m0byp3xn42jbp2657xg83hmw0000gn/T/ipykernel_28592/231197490.py:31: UserWarning: Matplotlib is currently using module://matplotlib_inline.backend_inline, which is a non-GUI backend, so cannot show the figure.\n",
      "  fig.show()\n"
     ]
    },
    {
     "data": {
      "image/png": "[encoded data removed]",
      "text/plain": [
       "<Figure size 1000x1000 with 1 Axes>"
      ]
     },
     "metadata": {
      "needs_background": "light"
     },
     "output_type": "display_data"
    }
   ],
   "source": [
    "# 確認\n",
    "horizon_side = [[0, geometric_net_cp[1]],[geometric_net_size[0], geometric_net_cp[1]]]\n",
    "vertical_side = [[geometric_net_cp[0], 0],[geometric_net_cp[0], geometric_net_size[1]]]\n",
    "\n",
    "lines = []\n",
    "lines.append(horizon_side)\n",
    "lines.append(vertical_side)\n",
    "\n",
    "ls = outer_side_surface_p_on_geometric_net\n",
    "for n in range(len(ls)):\n",
    "  if n != len(ls) - 1 and n != int(len(ls)/2 - 1):\n",
    "    p1 = ls[n]\n",
    "    p2 = ls[n+1]\n",
    "  elif n == int(len(ls)/2 - 1):\n",
    "    p1 = ls[0]\n",
    "    p2 = ls[n+1]\n",
    "  else:\n",
    "    p1 = ls[n]\n",
    "    p2 = ls[int(len(ls)/2 - 1)]\n",
    "  lines.append([p1, p2])\n",
    "\n",
    "for i in range(len(inner_side_surface_p_on_geometric_net_list)):\n",
    "  ls = inner_side_surface_p_on_geometric_net_list[i]\n",
    "  for n in range(len(ls)):\n",
    "    if n != len(ls) - 1 and n != int(len(ls)/2 - 1):\n",
    "      p1 = ls[n]\n",
    "      p2 = ls[n+1]\n",
    "    elif n == int(len(ls)/2 - 1):\n",
    "      p1 = ls[0]\n",
    "      p2 = ls[n+1]\n",
    "    else:\n",
    "      p1 = ls[n]\n",
    "      p2 = ls[int(len(ls)/2 - 1)]\n",
    "    lines.append([p1, p2])\n",
    "\n",
    "ls = top_surface_p_on_geometric_net\n",
    "for n in range(len(ls)):\n",
    "  if n != (len(ls) - 1):\n",
    "    p1 = ls[n]\n",
    "    p2 = ls[n+1]\n",
    "  else:\n",
    "    p1 = ls[n]\n",
    "    p2 = ls[0]\n",
    "  lines.append([p1, p2])\n",
    "\n",
    "ls = bottom_surface_p_on_geometric_net\n",
    "for n in range(len(ls)):\n",
    "  if n != (len(ls) - 1):\n",
    "    p1 = ls[n]\n",
    "    p2 = ls[n+1]\n",
    "  else:\n",
    "    p1 = ls[n]\n",
    "    p2 = ls[0]\n",
    "  lines.append([p1, p2])\n",
    "\n",
    "points = []\n",
    "points.append(outer_side_surface_cp_on_geometric_net)\n",
    "for i in range(len(inner_side_surface_cp_on_geometric_net_list)):\n",
    "  points.append(inner_side_surface_cp_on_geometric_net_list[i])\n",
    "points.append(top_surface_cp_on_geometric_net)\n",
    "points.append(bottom_surface_cp_on_geometric_net)\n",
    "\n",
    "Display_Sides_And_Points(lines, points, 0.1)"
   ]
  },
  {
   "cell_type": "markdown",
   "id": "27e3d8ea",
   "metadata": {},
   "source": [
    "#### UVの算出"
   ]
  },
  {
   "cell_type": "code",
   "execution_count": 49,
   "id": "722724b6",
   "metadata": {},
   "outputs": [],
   "source": [
    "uv_map_size_on_pixel = [100, 100]\n",
    "original_uv_map_size = [1, 1]"
   ]
  },
  {
   "cell_type": "code",
   "execution_count": 50,
   "id": "a77fa908",
   "metadata": {},
   "outputs": [
    {
     "name": "stdout",
     "output_type": "stream",
     "text": [
      "outer_side_surface_uv\n",
      "length : 14\n",
      "[[0.14788732394366194, 0.11223129216475322], [0.2711881153935986, 0.11223129216475322], [0.38330978209211486, 0.11223129216475322], [0.4992910637611842, 0.11223129216475322], [0.6235900400333503, 0.11223129216475322], [0.7345559367371668, 0.11223129216475322], [0.8521160459204946, 0.11223129216475322], [0.14788732394366194, 0.05443968960823766], [0.2711881153935986, 0.05443968960823766], [0.38330978209211486, 0.05443968960823766], [0.4992910637611842, 0.05443968960823766], [0.6235900400333503, 0.05443968960823766], [0.7345559367371668, 0.05443968960823766], [0.8521160459204946, 0.05443968960823766]]\n",
      "inner_side_surface_uv_list\n",
      "length : 2\n",
      "[[[0.14788732394366194, 0.2789022739377441], [0.23478252848530748, 0.2789022739377441], [0.32263336820034344, 0.2789022739377441], [0.4089810623413834, 0.2789022739377441], [0.495676171380726, 0.2789022739377441], [0.14788732394366194, 0.22111067138122853], [0.23478252848530748, 0.22111067138122853], [0.32263336820034344, 0.22111067138122853], [0.4089810623413834, 0.22111067138122853], [0.495676171380726, 0.22111067138122853]], [[0.14788732394366194, 0.44557325571073503], [0.2353418878992102, 0.44557325571073503], [0.3252965175919312, 0.44557325571073503], [0.41117880575223464, 0.44557325571073503], [0.5006569301648959, 0.44557325571073503], [0.14788732394366194, 0.3877816531542194], [0.2353418878992102, 0.3877816531542194], [0.3252965175919312, 0.3877816531542194], [0.41117880575223464, 0.3877816531542194], [0.5006569301648959, 0.3877816531542194]]]\n",
      "inner_side_surface_uv_list[0]\n",
      "length : 10\n",
      "[[0.14788732394366194, 0.2789022739377441], [0.23478252848530748, 0.2789022739377441], [0.32263336820034344, 0.2789022739377441], [0.4089810623413834, 0.2789022739377441], [0.495676171380726, 0.2789022739377441], [0.14788732394366194, 0.22111067138122853], [0.23478252848530748, 0.22111067138122853], [0.32263336820034344, 0.22111067138122853], [0.4089810623413834, 0.22111067138122853], [0.495676171380726, 0.22111067138122853]]\n",
      "top_surface_uv\n",
      "length : 14\n",
      "[[0.24806976047461235, 0.8663576125872885], [0.35440630917860105, 0.8039426818262517], [0.3532504771274707, 0.6918269728666114], [0.2526930886791336, 0.6340353703100959], [0.14520070792401468, 0.6964503010711327], [0.14635653997514497, 0.8074101779796425], [0.33475716430938574, 0.6999177972245236], [0.2584722489347852, 0.6583078433838324], [0.2596280809859155, 0.7461510792697361], [0.335912996360516, 0.786605201059297], [0.2515372566280033, 0.8455526356669428], [0.32782217200260383, 0.8027868497751214], [0.24806976047461235, 0.7611768959344302], [0.17294067715114214, 0.8027868497751214]]\n",
      "bottom_surface_uv\n",
      "length : 14\n",
      "[[0.7480697604746124, 0.8663576125872885], [0.854406309178601, 0.8039426818262517], [0.8532504771274707, 0.6918269728666114], [0.7526930886791336, 0.6340353703100959], [0.6452007079240147, 0.6964503010711327], [0.6463565399751451, 0.8074101779796425], [0.8347571643093857, 0.6999177972245236], [0.7584722489347852, 0.6583078433838324], [0.7596280809859156, 0.7461510792697361], [0.8359129963605161, 0.786605201059297], [0.7515372566280034, 0.8455526356669428], [0.8278221720026039, 0.8027868497751214], [0.7480697604746124, 0.7611768959344302], [0.6729406771511423, 0.8027868497751214]]\n",
      "all_uv : 62\n",
      "[[0.24806976047461235, 0.8663576125872885], [0.35440630917860105, 0.8039426818262517], [0.3532504771274707, 0.6918269728666114], [0.2526930886791336, 0.6340353703100959], [0.14520070792401468, 0.6964503010711327], [0.14635653997514497, 0.8074101779796425], [0.33475716430938574, 0.6999177972245236], [0.2584722489347852, 0.6583078433838324], [0.2596280809859155, 0.7461510792697361], [0.335912996360516, 0.786605201059297], [0.2515372566280033, 0.8455526356669428], [0.32782217200260383, 0.8027868497751214], [0.24806976047461235, 0.7611768959344302], [0.17294067715114214, 0.8027868497751214], [0.14788732394366194, 0.11223129216475322], [0.2711881153935986, 0.11223129216475322], [0.38330978209211486, 0.11223129216475322], [0.4992910637611842, 0.11223129216475322], [0.6235900400333503, 0.11223129216475322], [0.7345559367371668, 0.11223129216475322], [0.8521160459204946, 0.11223129216475322], [0.14788732394366194, 0.05443968960823766], [0.2711881153935986, 0.05443968960823766], [0.38330978209211486, 0.05443968960823766], [0.4992910637611842, 0.05443968960823766], [0.6235900400333503, 0.05443968960823766], [0.7345559367371668, 0.05443968960823766], [0.8521160459204946, 0.05443968960823766], [0.7480697604746124, 0.8663576125872885], [0.854406309178601, 0.8039426818262517], [0.8532504771274707, 0.6918269728666114], [0.7526930886791336, 0.6340353703100959], [0.6452007079240147, 0.6964503010711327], [0.6463565399751451, 0.8074101779796425], [0.8347571643093857, 0.6999177972245236], [0.7584722489347852, 0.6583078433838324], [0.7596280809859156, 0.7461510792697361], [0.8359129963605161, 0.786605201059297], [0.7515372566280034, 0.8455526356669428], [0.8278221720026039, 0.8027868497751214], [0.7480697604746124, 0.7611768959344302], [0.6729406771511423, 0.8027868497751214], [0.14788732394366194, 0.2789022739377441], [0.23478252848530748, 0.2789022739377441], [0.32263336820034344, 0.2789022739377441], [0.4089810623413834, 0.2789022739377441], [0.495676171380726, 0.2789022739377441], [0.14788732394366194, 0.22111067138122853], [0.23478252848530748, 0.22111067138122853], [0.32263336820034344, 0.22111067138122853], [0.4089810623413834, 0.22111067138122853], [0.495676171380726, 0.22111067138122853], [0.14788732394366194, 0.44557325571073503], [0.2353418878992102, 0.44557325571073503], [0.3252965175919312, 0.44557325571073503], [0.41117880575223464, 0.44557325571073503], [0.5006569301648959, 0.44557325571073503], [0.14788732394366194, 0.3877816531542194], [0.2353418878992102, 0.3877816531542194], [0.3252965175919312, 0.3877816531542194], [0.41117880575223464, 0.3877816531542194], [0.5006569301648959, 0.3877816531542194]]\n"
     ]
    }
   ],
   "source": [
    "outer_side_surface_uv = []\n",
    "inner_side_surface_uv_list = []\n",
    "top_surface_uv = []\n",
    "bottom_surface_uv = []\n",
    "\n",
    "for i in range(len(outer_side_surface_p_on_geometric_net)):\n",
    "  uvx = outer_side_surface_p_on_geometric_net[i][0] / geometric_net_size[0]\n",
    "  uvy = outer_side_surface_p_on_geometric_net[i][1] / geometric_net_size[0]\n",
    "  uv = [uvx, uvy]\n",
    "  outer_side_surface_uv.append(uv)\n",
    "\n",
    "for i in range(len(inner_side_surface_p_on_geometric_net_list)):\n",
    "  p_list = inner_side_surface_p_on_geometric_net_list[i]\n",
    "  tmp_list = []\n",
    "\n",
    "  for n in range(len(p_list)):\n",
    "    uvx = p_list[n][0] / geometric_net_size[0]\n",
    "    uvy = p_list[n][1] / geometric_net_size[0]\n",
    "    uv = [uvx, uvy]\n",
    "    tmp_list.append(uv)\n",
    "\n",
    "  inner_side_surface_uv_list.append(tmp_list)\n",
    "\n",
    "for i in range(len(top_surface_p_on_geometric_net)):\n",
    "  t_uvx = top_surface_p_on_geometric_net[i][0] / geometric_net_size[0]\n",
    "  t_uvy = top_surface_p_on_geometric_net[i][1] / geometric_net_size[0]\n",
    "\n",
    "  b_uvx = bottom_surface_p_on_geometric_net[i][0] / geometric_net_size[0]\n",
    "  b_uvy = bottom_surface_p_on_geometric_net[i][1] / geometric_net_size[0]\n",
    "\n",
    "  t_uv = [t_uvx, t_uvy]\n",
    "  b_uv = [b_uvx, b_uvy]\n",
    "\n",
    "  top_surface_uv.append(t_uv)\n",
    "  bottom_surface_uv.append(b_uv)\n",
    "\n",
    "print(\"outer_side_surface_uv\")\n",
    "print(\"length : \" + str(len(outer_side_surface_uv)))\n",
    "print(outer_side_surface_uv)\n",
    "print(\"inner_side_surface_uv_list\")\n",
    "print(\"length : \" + str(len(inner_side_surface_uv_list)))\n",
    "print(inner_side_surface_uv_list)\n",
    "if len(inner_side_surface_uv_list) != 0:\n",
    "  print(\"inner_side_surface_uv_list[0]\")\n",
    "  print(\"length : \" + str(len(inner_side_surface_uv_list[0])))\n",
    "  print(inner_side_surface_uv_list[0])\n",
    "print(\"top_surface_uv\")\n",
    "print(\"length : \" + str(len(top_surface_uv)))\n",
    "print(top_surface_uv)\n",
    "print(\"bottom_surface_uv\")\n",
    "print(\"length : \" + str(len(bottom_surface_uv)))\n",
    "print(bottom_surface_uv)\n",
    "\n",
    "# 上面下面側面の結合\n",
    "all_uv = top_surface_uv + outer_side_surface_uv + bottom_surface_uv\n",
    "if len(inner_side_surface_uv_list) != 0:\n",
    "  for i in range(len(inner_side_surface_uv_list)):\n",
    "    all_uv = all_uv + inner_side_surface_uv_list[i]\n",
    "print(\"all_uv : \" + str(len(all_uv)))\n",
    "print(all_uv[:])"
   ]
  },
  {
   "cell_type": "markdown",
   "id": "ad23aa1b",
   "metadata": {},
   "source": [
    "#### 側面のObj上の面積とUV Map上の面積の比率を算出。UV Map Scaleとして利用"
   ]
  },
  {
   "cell_type": "code",
   "execution_count": 51,
   "id": "a82806b9",
   "metadata": {},
   "outputs": [
    {
     "name": "stdout",
     "output_type": "stream",
     "text": [
      "material_adjustment_scale : 2\n",
      "geometric_net_size : [8.651776, 8.651776]\n",
      "material_scale : 4.3259\n"
     ]
    }
   ],
   "source": [
    "# uv_map_scaleの計算\n",
    "side_surface_area_size_on_obj = figure_perimeter * figure_height\n",
    "side_surface_area_size_on_uv_map = 0\n",
    "\n",
    "start_p = outer_side_surface_uv[0]\n",
    "end_p = outer_side_surface_uv[-1]\n",
    "side_surface_width = end_p[0] - start_p[0]\n",
    "side_surface_height = start_p[1] - end_p[1]\n",
    "side_surface_area_size_on_uv_map = side_surface_width * side_surface_height\n",
    "\n",
    "\n",
    "material_tiling_num = geometric_net_size[0] / material_adjustment_scale \n",
    "material_tiling_num = round(material_tiling_num , round_num_01)\n",
    "\n",
    "print(\"material_adjustment_scale : \" + str(material_adjustment_scale))\n",
    "print(\"geometric_net_size : \" + str(geometric_net_size))\n",
    "print(\"material_scale : \" + str(material_tiling_num))"
   ]
  },
  {
   "cell_type": "markdown",
   "id": "dbe6a49f",
   "metadata": {},
   "source": [
    "## Normalの作成"
   ]
  },
  {
   "cell_type": "code",
   "execution_count": 52,
   "id": "fd359710",
   "metadata": {},
   "outputs": [
    {
     "name": "stdout",
     "output_type": "stream",
     "text": [
      "all_surface_normal : 16\n",
      "[[-0.0, 1.0, -0.0], array([0.50620057, 0.        , 0.86241578]), array([ 0.99994686,  0.        , -0.01030873]), array([ 0.49828388,  0.        , -0.86701394]), array([-0.50213552, -0.        , -0.86478895]), array([-0.99994575,  0.        ,  0.0104161 ]), array([-0.50142378,  0.        ,  0.86520182]), [-0.0, -1.0, -0.0], array([-0.47885213,  0.        ,  0.87789557]), array([ 0.99991345,  0.        , -0.01315676]), array([ 0.46850263,  0.        , -0.8834621 ]), array([-0.99991112,  0.        ,  0.01333215]), array([-0.48900576, -0.        , -0.87228055]), array([-0.46256601,  0.        ,  0.88658485]), array([0.48449983, 0.        , 0.87479136]), array([ 0.47794683,  0.        , -0.87838877])]\n"
     ]
    }
   ],
   "source": [
    "# 面法線\n",
    "top_surface_normal = [[-0.0000, 1.0000, -0.0000]]\n",
    "bottom_surface_normal = [[-0.0000, -1.0000, -0.0000]]\n",
    "outer_side_surface_normal = outer_side_normal\n",
    "\n",
    "all_surface_normal = top_surface_normal +  outer_side_surface_normal + bottom_surface_normal + inner_side_normal\n",
    "print(\"all_surface_normal : \" + str(len(all_surface_normal)))\n",
    "print(all_surface_normal)"
   ]
  },
  {
   "cell_type": "markdown",
   "id": "8f2d81e9",
   "metadata": {},
   "source": [
    "## データの整形"
   ]
  },
  {
   "cell_type": "code",
   "execution_count": 53,
   "id": "71a21cef",
   "metadata": {},
   "outputs": [
    {
     "name": "stdout",
     "output_type": "stream",
     "text": [
      "top_surface_position_length : 14\n",
      "inner_side_normal_length : 8\n",
      "inner_side_uv_length : 20\n",
      "inner_side_position_length : 8\n"
     ]
    }
   ],
   "source": [
    "top_surface_position_length = len(figure_position_with_holes)\n",
    "\n",
    "inner_side_normal_length = len(inner_side_normal)\n",
    "inner_side_uv_length = 0\n",
    "inner_side_position_length = 0 \n",
    "\n",
    "if len(inner_side_surface_uv_list) != 0:\n",
    "    for i in range(len(inner_side_surface_uv_list)):\n",
    "        inner_side_uv_length += len(inner_side_surface_uv_list[i])\n",
    "\n",
    "if len(holes_position_list_original) != 0:\n",
    "    for i in range(len(holes_position_list_original)):\n",
    "        inner_side_position_length += len(holes_position_list_original[i])\n",
    "\n",
    "print(\"top_surface_position_length : \" + str(top_surface_position_length))\n",
    "print(\"inner_side_normal_length : \" + str(inner_side_normal_length))\n",
    "print(\"inner_side_uv_length : \" + str(inner_side_uv_length))\n",
    "print(\"inner_side_position_length : \" + str(inner_side_position_length))"
   ]
  },
  {
   "cell_type": "code",
   "execution_count": 54,
   "id": "0ba71b06",
   "metadata": {},
   "outputs": [
    {
     "name": "stdout",
     "output_type": "stream",
     "text": [
      "o New_Obj_20240603_000920\n",
      "0\n",
      "[[6, 7, 21], [21, 20, 6], [7, 8, 22], [22, 21, 7], [8, 9, 23], [23, 22, 8], [9, 6, 20], [20, 23, 9]]\n",
      "[6, 7, 8, 9, 20, 21, 22, 23]\n",
      "1\n",
      "[[10, 11, 25], [25, 24, 10], [11, 12, 26], [26, 25, 11], [12, 13, 27], [27, 26, 12], [13, 10, 24], [24, 27, 13]]\n",
      "[10, 11, 12, 13, 24, 25, 26, 27]\n",
      "v_str\n",
      "v -0.0167 0.25 1.0067\n",
      "v 0.9033 0.25 0.4667\n",
      "v 0.8933 0.25 -0.5033\n",
      "v 0.0233 0.25 -1.0033\n",
      "v -0.9067 0.25 -0.4633\n",
      "v -0.8967 0.25 0.4967\n",
      "v 0.7333 0.25 -0.4333\n",
      "v 0.0733 0.25 -0.7933\n",
      "v 0.0833 0.25 -0.0333\n",
      "v 0.7433 0.25 0.3167\n",
      "v 0.0133 0.25 0.8267\n",
      "v 0.6733 0.25 0.4567\n",
      "v -0.0167 0.25 0.0967\n",
      "v -0.6667 0.25 0.4567\n",
      "v -0.0167 -0.25 1.0067\n",
      "v 0.9033 -0.25 0.4667\n",
      "v 0.8933 -0.25 -0.5033\n",
      "v 0.0233 -0.25 -1.0033\n",
      "v -0.9067 -0.25 -0.4633\n",
      "v -0.8967 -0.25 0.4967\n",
      "v 0.7333 -0.25 -0.4333\n",
      "v 0.0733 -0.25 -0.7933\n",
      "v 0.0833 -0.25 -0.0333\n",
      "v 0.7433 -0.25 0.3167\n",
      "v 0.0133 -0.25 0.8267\n",
      "v 0.6733 -0.25 0.4567\n",
      "v -0.0167 -0.25 0.0967\n",
      "v -0.6667 -0.25 0.4567\n",
      "\n",
      "n_str\n",
      "vn -0.0 1.0 -0.0\n",
      "vn 0.5062005687642233 0.0 0.8624157838205286\n",
      "vn 0.9999468636254573 0.0 -0.010308730552839776\n",
      "vn 0.4982838758534585 0.0 -0.8670139439850176\n",
      "vn -0.5021355173865036 -0.0 -0.8647889466100894\n",
      "vn -0.9999457509425375 0.0 0.010416101572317992\n",
      "vn -0.5014237824134796 0.0 0.8652018206350236\n",
      "vn -0.0 -1.0 -0.0\n",
      "vn -0.4788521306805733 0.0 0.8778955729143844\n",
      "vn 0.9999134461416997 0.0 -0.013156755870285516\n",
      "vn 0.4685026298847458 0.0 -0.8834621020683777\n",
      "vn -0.9999111229612074 0.0 0.013332148306149445\n",
      "vn -0.48900576433676646 -0.0 -0.8722805526007186\n",
      "vn -0.46256600669501974 0.0 0.8865848461654546\n",
      "vn 0.4844998279857687 0.0 0.8747913560854156\n",
      "vn 0.4779468297143938 0.0 -0.8783887681237507\n",
      "\n",
      "t_str\n",
      "vt 0.24806976047461235 0.8663576125872885\n",
      "vt 0.35440630917860105 0.8039426818262517\n",
      "vt 0.3532504771274707 0.6918269728666114\n",
      "vt 0.2526930886791336 0.6340353703100959\n",
      "vt 0.14520070792401468 0.6964503010711327\n",
      "vt 0.14635653997514497 0.8074101779796425\n",
      "vt 0.33475716430938574 0.6999177972245236\n",
      "vt 0.2584722489347852 0.6583078433838324\n",
      "vt 0.2596280809859155 0.7461510792697361\n",
      "vt 0.335912996360516 0.786605201059297\n",
      "vt 0.2515372566280033 0.8455526356669428\n",
      "vt 0.32782217200260383 0.8027868497751214\n",
      "vt 0.24806976047461235 0.7611768959344302\n",
      "vt 0.17294067715114214 0.8027868497751214\n",
      "vt 0.14788732394366194 0.11223129216475322\n",
      "vt 0.2711881153935986 0.11223129216475322\n",
      "vt 0.38330978209211486 0.11223129216475322\n",
      "vt 0.4992910637611842 0.11223129216475322\n",
      "vt 0.6235900400333503 0.11223129216475322\n",
      "vt 0.7345559367371668 0.11223129216475322\n",
      "vt 0.8521160459204946 0.11223129216475322\n",
      "vt 0.14788732394366194 0.05443968960823766\n",
      "vt 0.2711881153935986 0.05443968960823766\n",
      "vt 0.38330978209211486 0.05443968960823766\n",
      "vt 0.4992910637611842 0.05443968960823766\n",
      "vt 0.6235900400333503 0.05443968960823766\n",
      "vt 0.7345559367371668 0.05443968960823766\n",
      "vt 0.8521160459204946 0.05443968960823766\n",
      "vt 0.7480697604746124 0.8663576125872885\n",
      "vt 0.854406309178601 0.8039426818262517\n",
      "vt 0.8532504771274707 0.6918269728666114\n",
      "vt 0.7526930886791336 0.6340353703100959\n",
      "vt 0.6452007079240147 0.6964503010711327\n",
      "vt 0.6463565399751451 0.8074101779796425\n",
      "vt 0.8347571643093857 0.6999177972245236\n",
      "vt 0.7584722489347852 0.6583078433838324\n",
      "vt 0.7596280809859156 0.7461510792697361\n",
      "vt 0.8359129963605161 0.786605201059297\n",
      "vt 0.7515372566280034 0.8455526356669428\n",
      "vt 0.8278221720026039 0.8027868497751214\n",
      "vt 0.7480697604746124 0.7611768959344302\n",
      "vt 0.6729406771511423 0.8027868497751214\n",
      "vt 0.14788732394366194 0.2789022739377441\n",
      "vt 0.23478252848530748 0.2789022739377441\n",
      "vt 0.32263336820034344 0.2789022739377441\n",
      "vt 0.4089810623413834 0.2789022739377441\n",
      "vt 0.495676171380726 0.2789022739377441\n",
      "vt 0.14788732394366194 0.22111067138122853\n",
      "vt 0.23478252848530748 0.22111067138122853\n",
      "vt 0.32263336820034344 0.22111067138122853\n",
      "vt 0.4089810623413834 0.22111067138122853\n",
      "vt 0.495676171380726 0.22111067138122853\n",
      "vt 0.14788732394366194 0.44557325571073503\n",
      "vt 0.2353418878992102 0.44557325571073503\n",
      "vt 0.3252965175919312 0.44557325571073503\n",
      "vt 0.41117880575223464 0.44557325571073503\n",
      "vt 0.5006569301648959 0.44557325571073503\n",
      "vt 0.14788732394366194 0.3877816531542194\n",
      "vt 0.2353418878992102 0.3877816531542194\n",
      "vt 0.3252965175919312 0.3877816531542194\n",
      "vt 0.41117880575223464 0.3877816531542194\n",
      "vt 0.5006569301648959 0.3877816531542194\n",
      "\n",
      "f_str\n",
      "f 9/9/1 5/5/1 13/13/1\n",
      "f 14/14/1 13/13/1 5/5/1\n",
      "f 1/1/1 14/14/1 6/6/1\n",
      "f 5/5/1 6/6/1 14/14/1\n",
      "f 12/12/1 11/11/1 1/1/1\n",
      "f 14/14/1 1/1/1 11/11/1\n",
      "f 4/4/1 5/5/1 8/8/1\n",
      "f 7/7/1 3/3/1 8/8/1\n",
      "f 4/4/1 8/8/1 3/3/1\n",
      "f 10/10/1 3/3/1 7/7/1\n",
      "f 13/13/1 12/12/1 9/9/1\n",
      "f 10/10/1 9/9/1 12/12/1\n",
      "f 12/12/1 2/2/1 10/10/1\n",
      "f 3/3/1 10/10/1 2/2/1\n",
      "f 1/1/1 2/2/1 12/12/1\n",
      "f 5/5/1 9/9/1 8/8/1\n",
      "outer_side\n",
      "f 16/23/2 2/16/2 1/15/2\n",
      "f 1/15/2 15/22/2 16/23/2\n",
      "f 17/24/3 3/17/3 2/16/3\n",
      "f 2/16/3 16/23/3 17/24/3\n",
      "f 18/25/4 4/18/4 3/17/4\n",
      "f 3/17/4 17/24/4 18/25/4\n",
      "f 19/26/5 5/19/5 4/18/5\n",
      "f 4/18/5 18/25/5 19/26/5\n",
      "f 20/27/6 6/20/6 5/19/6\n",
      "f 5/19/6 19/26/6 20/27/6\n",
      "f 15/28/7 1/21/7 6/20/7\n",
      "f 6/20/7 20/27/7 15/28/7\n",
      "f 7/43/9 8/44/9 22/49/9\n",
      "f 22/49/9 21/48/9 7/43/9\n",
      "f 8/44/10 9/45/10 23/50/10\n",
      "f 23/50/10 22/49/10 8/44/10\n",
      "f 9/45/11 10/46/11 24/51/11\n",
      "f 24/51/11 23/50/11 9/45/11\n",
      "f 10/46/12 7/47/12 21/52/12\n",
      "f 21/52/12 24/51/12 10/46/12\n",
      "f 11/53/12 12/54/12 26/59/12\n",
      "f 26/59/12 25/58/12 11/53/12\n",
      "f 12/54/13 13/55/13 27/60/13\n",
      "f 27/60/13 26/59/13 12/54/13\n",
      "f 13/55/14 14/56/14 28/61/14\n",
      "f 28/61/14 27/60/14 13/55/14\n",
      "f 14/56/15 11/57/15 25/62/15\n",
      "f 25/62/15 28/61/15 14/56/15\n",
      "f 27/41/8 19/33/8 23/37/8\n",
      "f 19/33/8 27/41/8 28/42/8\n",
      "f 20/34/8 28/42/8 15/29/8\n",
      "f 28/42/8 20/34/8 19/33/8\n",
      "f 15/29/8 25/39/8 26/40/8\n",
      "f 25/39/8 15/29/8 28/42/8\n",
      "f 22/36/8 19/33/8 18/32/8\n",
      "f 22/36/8 17/31/8 21/35/8\n",
      "f 17/31/8 22/36/8 18/32/8\n",
      "f 21/35/8 17/31/8 24/38/8\n",
      "f 23/37/8 26/40/8 27/41/8\n",
      "f 26/40/8 23/37/8 24/38/8\n",
      "f 24/38/8 16/30/8 26/40/8\n",
      "f 16/30/8 24/38/8 17/31/8\n",
      "f 26/40/8 16/30/8 15/29/8\n",
      "f 22/36/8 23/37/8 19/33/8\n",
      "\n"
     ]
    }
   ],
   "source": [
    "comment_str = \"# \"\n",
    "now = datetime.datetime.now()\n",
    "date_str = now.strftime('%Y%m%d_%H%M%S')\n",
    "header_str = \"o \" + new_obj_name + \"_\" + date_str\n",
    "print(header_str)\n",
    "\n",
    "# v 頂点\n",
    "v_str = \"\"\n",
    "for i in range(len(position_with_hole)):\n",
    "  p = position_with_hole[i]\n",
    "  txt = \"v \" + str(p[0]) + \" \" + str(p[1]) + \" \" + str(p[2]) + \"\\n\"\n",
    "  v_str += txt\n",
    "\n",
    "# vn 法線\n",
    "n_str = \"\"\n",
    "for i in range(len(all_surface_normal)):\n",
    "  n = all_surface_normal[i]\n",
    "  txt = \"vn \" + str(n[0]) + \" \" + str(n[1]) + \" \" + str(n[2]) + \"\\n\"\n",
    "  n_str += txt\n",
    "\n",
    "# vt テクスチャ座標(UV)\n",
    "t_str = \"\"\n",
    "for i in range(len(all_uv)):\n",
    "  t = all_uv[i]\n",
    "  txt = \"vt \" + str(t[0]) + \" \" + str(t[1]) + \"\\n\"\n",
    "  t_str += txt\n",
    "\n",
    "# f 頂点番号/テクスチャ座標(UV)/法線番号 番号は全て\"1\"から始まる\n",
    "f_str = \"\"\n",
    "# top\n",
    "for i in range(len(top_surface_triangle)):\n",
    "  v_n1 = top_surface_triangle[i][0] + 1\n",
    "  v_n2 = top_surface_triangle[i][1] + 1\n",
    "  v_n3 = top_surface_triangle[i][2] + 1\n",
    "\n",
    "  t_n1 = v_n1\n",
    "  t_n2 = v_n2\n",
    "  t_n3 = v_n3\n",
    "\n",
    "  n_n1 = 1\n",
    "  n_n2 = 1\n",
    "  n_n3 = 1\n",
    "  txt =  \"f \" + str(v_n1) + \"/\" + str(t_n1) + \"/\" + str(n_n1) + \" \" + str(v_n2) + \"/\" + str(t_n2) + \"/\" + str(n_n2) + \" \" + str(v_n3) + \"/\" + str(t_n3) + \"/\" + str(n_n3) +\"\\n\"\n",
    "  f_str += txt\n",
    "\n",
    "\n",
    "# outer_side\n",
    "f_str += \"outer_side\\n\"\n",
    "for i in range(len(outer_side_surface_triangle)):\n",
    "\n",
    "  v_n1 = outer_side_surface_triangle[i][0] + 1\n",
    "  v_n2 = outer_side_surface_triangle[i][1] + 1\n",
    "  v_n3 = outer_side_surface_triangle[i][2] + 1\n",
    "\n",
    "  i1 = outer_side_index_list.index(outer_side_surface_triangle[i][0])\n",
    "  i2 = outer_side_index_list.index(outer_side_surface_triangle[i][1])\n",
    "  i3 = outer_side_index_list.index(outer_side_surface_triangle[i][2])\n",
    "\n",
    "  t_n1 = i1 + 1 + len(top_surface_uv)\n",
    "  if i1 >= outer_side_position_length:\n",
    "    t_n1 += 1\n",
    "  if(i > 1 and i1 == 0):\n",
    "    t_n1 = outer_side_position_length + 1 + len(top_surface_uv)\n",
    "  elif(i > 1 and i1 == outer_side_position_length): \n",
    "    t_n1 = outer_side_position_length * 2 + 2 + len(top_surface_uv)\n",
    "\n",
    "  t_n2 = i2 + 1 + len(top_surface_uv)\n",
    "  if i2 >= outer_side_position_length:\n",
    "    t_n2 += 1\n",
    "  if(i > 1 and i2 == 0):\n",
    "    t_n2 = outer_side_position_length + 1 + len(top_surface_uv)\n",
    "  elif(i > 1 and i2 == outer_side_position_length): \n",
    "    t_n2 = outer_side_position_length * 2 + 2 + len(top_surface_uv)\n",
    "\n",
    "  t_n3 = i3 + 1 + len(top_surface_uv)\n",
    "  if i3 >= outer_side_position_length:\n",
    "    t_n3 += 1\n",
    "  if(i > 1 and i3 == 0):\n",
    "    t_n3 = outer_side_position_length + 1 + len(top_surface_uv)\n",
    "  elif(i > 1 and i3 == outer_side_position_length): \n",
    "    t_n3 = outer_side_position_length * 2 + 2 + len(top_surface_uv)\n",
    "\n",
    "  num = int(i / 2) + 1 + 1\n",
    "  n_n1 = num\n",
    "  n_n2 = num\n",
    "  n_n3 = num\n",
    "  txt =  \"f \" + str(v_n1) + \"/\" + str(t_n1) + \"/\" + str(n_n1) + \" \" + str(v_n2) + \"/\" + str(t_n2) + \"/\" + str(n_n2) + \" \" + str(v_n3) + \"/\" + str(t_n3) + \"/\" + str(n_n3) +\"\\n\"\n",
    "  f_str += txt\n",
    "\n",
    "# inner_side\n",
    "uv_additional_num = 0\n",
    "normal_additional_num = 0\n",
    "for i in range(len(inner_side_surface_triangle_list)):\n",
    "    triangle_list = inner_side_surface_triangle_list[i]\n",
    "    index_list = inner_side_index_list[i]\n",
    "    position_length = int(len(index_list) / 2)\n",
    "    print(i)\n",
    "    print(triangle_list)\n",
    "    print(index_list)\n",
    "\n",
    "    for n in range(len(data)):\n",
    "      v_n1 = triangle_list[n][0] + 1\n",
    "      v_n2 = triangle_list[n][1] + 1\n",
    "      v_n3 = triangle_list[n][2] + 1\n",
    "\n",
    "      i1 = index_list.index(triangle_list[n][0])\n",
    "      i2 = index_list.index(triangle_list[n][1])\n",
    "      i3 = index_list.index(triangle_list[n][2])\n",
    "\n",
    "      additional_num = len(top_surface_uv) + len(outer_side_surface_uv) +len(bottom_surface_uv) + uv_additional_num\n",
    "\n",
    "      t_n1 = i1 + 1 + additional_num\n",
    "      if i1 >= position_length:\n",
    "        t_n1 += 1\n",
    "      if(n > 1 and i1 == 0):\n",
    "        t_n1 = position_length + 1 + additional_num\n",
    "      elif(n > 1 and i1 == position_length):\n",
    "        t_n1 = position_length * 2 + 2 + additional_num\n",
    "\n",
    "      t_n2 = i2 + 1 + additional_num\n",
    "      if i2 >= position_length:\n",
    "        t_n2 += 1\n",
    "      if(n > 1 and i2 == 0):\n",
    "        t_n2 = position_length + 1 + additional_num\n",
    "      elif(n > 1 and i2 == position_length):\n",
    "        t_n2 = position_length * 2 + 2 + additional_num\n",
    "\n",
    "      t_n3 = i3 + 1 + additional_num\n",
    "      if i3 >= position_length:\n",
    "        t_n3 += 1\n",
    "      if(n > 1 and i3 == 0):\n",
    "        t_n3 = position_length + 1 + additional_num\n",
    "      elif(n > 1 and i3 == position_length):\n",
    "        t_n3 = position_length * 2 + 2 + additional_num\n",
    "\n",
    "      additional_num = len(top_surface_normal) + len(outer_side_surface_normal) + len(bottom_surface_normal) + normal_additional_num\n",
    "      num = int(n / 2) + 1 + additional_num #v_n1 #int(i / 2) + 1 + 1\n",
    "      n_n1 = num\n",
    "      n_n2 = num\n",
    "      n_n3 = num\n",
    "\n",
    "      txt =  \"f \" + str(v_n1) + \"/\" + str(t_n1) + \"/\" + str(n_n1) + \" \" + str(v_n2) + \"/\" + str(t_n2) + \"/\" + str(n_n2) + \" \" + str(v_n3) + \"/\" + str(t_n3) + \"/\" + str(n_n3) +\"\\n\"\n",
    "      f_str += txt\n",
    "      \n",
    "    uv_additional_num += len(inner_side_surface_uv_list[i])\n",
    "    normal_additional_num += len(inner_side_normal[i])\n",
    "\n",
    "# bottom\n",
    "for i in range(len(bottom_surface_triangle)):\n",
    "  v_n1 = bottom_surface_triangle[i][0] + 1 + len(top_surface_position)\n",
    "  v_n2 = bottom_surface_triangle[i][1] + 1 + len(top_surface_position)\n",
    "  v_n3 = bottom_surface_triangle[i][2] + 1 + len(top_surface_position)\n",
    "\n",
    "  t_n1 = bottom_surface_triangle[i][0] + 1 + len(top_surface_uv) + len(outer_side_surface_uv)\n",
    "  t_n2 = bottom_surface_triangle[i][1] + 1 + len(top_surface_uv) + len(outer_side_surface_uv)\n",
    "  t_n3 = bottom_surface_triangle[i][2] + 1 + len(top_surface_uv) + len(outer_side_surface_uv)\n",
    "\n",
    "  num = len(all_surface_normal) - inner_side_normal_length\n",
    "  n_n1 = num\n",
    "  n_n2 = num\n",
    "  n_n3 = num\n",
    "  txt =  \"f \" + str(v_n1) + \"/\" + str(t_n1) + \"/\" + str(n_n1) + \" \" + str(v_n2) + \"/\" + str(t_n2) + \"/\" + str(n_n2) + \" \" + str(v_n3) + \"/\" + str(t_n3) + \"/\" + str(n_n3) +\"\\n\"\n",
    "  f_str += txt\n",
    "\n",
    "print(\"v_str\")\n",
    "print(v_str)\n",
    "print(\"n_str\")\n",
    "print(n_str)\n",
    "print(\"t_str\")\n",
    "print(t_str)\n",
    "print(\"f_str\")\n",
    "print(f_str)"
   ]
  },
  {
   "cell_type": "markdown",
   "id": "cfa85a3d",
   "metadata": {},
   "source": [
    "## Objファイルへ出力"
   ]
  },
  {
   "cell_type": "code",
   "execution_count": 55,
   "id": "71e14850",
   "metadata": {},
   "outputs": [
    {
     "name": "stdout",
     "output_type": "stream",
     "text": [
      "Done! Created New Obj File. 20240603_000920\n"
     ]
    }
   ],
   "source": [
    "new_obj_path = new_obj_folder_path + new_obj_name  + \"_\" + date_str + \"_\" + \"tiling_\" + str(material_tiling_num) + \".obj\"\n",
    "\n",
    "with open(new_obj_path, 'w') as f:\n",
    "    f.write(header_str)\n",
    "    f.write(\"\\n\")\n",
    "    f.write(v_str)\n",
    "    f.write(n_str)\n",
    "    f.write(t_str)\n",
    "    f.write(f_str)\n",
    "\n",
    "print(\"Done! Created New Obj File. \" + new_obj_path)"
   ]
  }
 ],
 "metadata": {
  "kernelspec": {
   "display_name": "Python 3 (ipykernel)",
   "language": "python",
   "name": "python3"
  },
  "language_info": {
   "codemirror_mode": {
    "name": "ipython",
    "version": 3
   },
   "file_extension": ".py",
   "mimetype": "text/x-python",
   "name": "python",
   "nbconvert_exporter": "python",
   "pygments_lexer": "ipython3",
   "version": "3.8.12"
  }
 },
 "nbformat": 4,
 "nbformat_minor": 5
}
